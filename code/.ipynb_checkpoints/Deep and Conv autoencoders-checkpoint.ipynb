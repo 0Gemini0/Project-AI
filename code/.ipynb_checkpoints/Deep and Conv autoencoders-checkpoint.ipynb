{
 "cells": [
  {
   "cell_type": "code",
   "execution_count": 59,
   "metadata": {
    "collapsed": false
   },
   "outputs": [],
   "source": [
    "import os\n",
    "import pandas as pd\n",
    "import numpy as np\n",
    "from keras.layers import Input, Dense, Conv2D, MaxPooling2D, UpSampling2D\n",
    "from keras.models import Model\n",
    "from keras import backend as K\n",
    "import pickle\n",
    "import random as rand\n",
    "import time\n",
    "import sys\n",
    "from keras.callbacks import EarlyStopping, ModelCheckpoint"
   ]
  },
  {
   "cell_type": "code",
   "execution_count": 29,
   "metadata": {
    "collapsed": true
   },
   "outputs": [],
   "source": [
    "# globals\n",
    "NUMBER_OF_TRAINING_INSTANCES = 2\n",
    "CHANNELS = 14\n",
    "TIMESTAMPS = 64"
   ]
  },
  {
   "cell_type": "markdown",
   "metadata": {},
   "source": [
    "## Loading data"
   ]
  },
  {
   "cell_type": "code",
   "execution_count": null,
   "metadata": {
    "collapsed": true
   },
   "outputs": [],
   "source": [
    "with open(\"denoising_autoencoder_unsupervised.json\", \"r\") as json_file:\n",
    "    model_final = model_from_json(json_file.read())\n",
    "model_final.load_weights(\"denoising_autoencoder_unsupervised_data.hdf5\")\n",
    "model_final.compile(loss='mse', optimizer='adam')"
   ]
  },
  {
   "cell_type": "markdown",
   "metadata": {},
   "source": [
    "### Preparing the data"
   ]
  },
  {
   "cell_type": "code",
   "execution_count": 20,
   "metadata": {
    "collapsed": true
   },
   "outputs": [],
   "source": [
    "# random signal loader, for loading toy data\n",
    "def random_signal_loader(static_indices, shuffled_non_static_indices, file_path):\n",
    "    \"\"\"random signal loader, for loading fake EEG data\"\"\"\n",
    "    training_instance = False\n",
    "    \n",
    "    if(len(shuffled_non_static_indices) == 0):\n",
    "        shuffled_non_static_indices = list(static_indices)\n",
    "        rand.shuffle(shuffled_non_static_indices)\n",
    "    with open(file_path, \"rb\") as input_file:\n",
    "        input_file.seek(shuffled_non_static_indices.pop(0))\n",
    "        training_instance = pickle.load(input_file)\n",
    "        \n",
    "    return training_instance, shuffled_non_static_indices"
   ]
  },
  {
   "cell_type": "code",
   "execution_count": 96,
   "metadata": {
    "collapsed": true
   },
   "outputs": [],
   "source": [
    "def normalize_signals(pure_signal, no_missing_noisy_signal):\n",
    "    normalized_pure_signal = pure_signal - np.mean(pure_signal, axis=0)\n",
    "    normalized_estimated_signal = no_missing_noisy_signal - np.mean(no_missing_noisy_signal, axis=0)\n",
    "    min_ = min(np.amin(normalized_pure_signal), np.amin(normalized_estimated_signal))\n",
    "    normalized_pure_signal -= min_\n",
    "    normalized_estimated_signal -= min_\n",
    "    max_ = max(np.amax(normalized_pure_signal), np.amax(normalized_estimated_signal))\n",
    "    normalized_pure_signal /= max_\n",
    "    normalized_estimated_signal /= max_\n",
    "\n",
    "    return normalized_pure_signal, normalized_estimated_signal"
   ]
  },
  {
   "cell_type": "code",
   "execution_count": 21,
   "metadata": {
    "collapsed": true
   },
   "outputs": [],
   "source": [
    "# test and training set size selector, for cropping the data\n",
    "def set_creator(input_size, data_set):\n",
    "    size = data_set.shape[0]\n",
    "    reduce = size % input_size\n",
    "    if reduce != 0:\n",
    "        return data_set[:-reduce,:]\n",
    "    else:\n",
    "        return data_set"
   ]
  },
  {
   "cell_type": "code",
   "execution_count": 22,
   "metadata": {
    "collapsed": true
   },
   "outputs": [],
   "source": [
    "dataset = []"
   ]
  },
  {
   "cell_type": "code",
   "execution_count": 32,
   "metadata": {
    "collapsed": false
   },
   "outputs": [],
   "source": [
    "path = os.getcwd()\n",
    "data = pd.read_csv(path + '\\\\preprocessed_old.csv')"
   ]
  },
  {
   "cell_type": "code",
   "execution_count": 24,
   "metadata": {
    "collapsed": true
   },
   "outputs": [],
   "source": [
    "data2 = pd.read_csv(path + '\\\\preprocessed_new.csv')"
   ]
  },
  {
   "cell_type": "code",
   "execution_count": 25,
   "metadata": {
    "collapsed": false
   },
   "outputs": [
    {
     "name": "stdout",
     "output_type": "stream",
     "text": [
      "(1314000, 37)\n",
      "(1456761, 52)\n"
     ]
    },
    {
     "data": {
      "text/html": [
       "<div>\n",
       "<table border=\"1\" class=\"dataframe\">\n",
       "  <thead>\n",
       "    <tr style=\"text-align: right;\">\n",
       "      <th></th>\n",
       "      <th>COUNTER</th>\n",
       "      <th>INTERPOLATED</th>\n",
       "      <th>AF3</th>\n",
       "      <th>F7</th>\n",
       "      <th>F3</th>\n",
       "      <th>FC5</th>\n",
       "      <th>T7</th>\n",
       "      <th>P7</th>\n",
       "      <th>O1</th>\n",
       "      <th>O2</th>\n",
       "      <th>...</th>\n",
       "      <th>GYROY_md</th>\n",
       "      <th>GYROZ</th>\n",
       "      <th>ACCX</th>\n",
       "      <th>ACCY</th>\n",
       "      <th>ACCZ</th>\n",
       "      <th>MAGX</th>\n",
       "      <th>MAGY</th>\n",
       "      <th>MAGZ</th>\n",
       "      <th>TIME_STAMP_s_md</th>\n",
       "      <th>mask</th>\n",
       "    </tr>\n",
       "  </thead>\n",
       "  <tbody>\n",
       "    <tr>\n",
       "      <th>0</th>\n",
       "      <td>102.0</td>\n",
       "      <td>0.0</td>\n",
       "      <td>78.286767</td>\n",
       "      <td>-4.17838</td>\n",
       "      <td>-4.441258</td>\n",
       "      <td>-9.226732</td>\n",
       "      <td>-11.700883</td>\n",
       "      <td>-6.188615</td>\n",
       "      <td>-6.441889</td>\n",
       "      <td>-10.214907</td>\n",
       "      <td>...</td>\n",
       "      <td>8186.153809</td>\n",
       "      <td>8211.794922</td>\n",
       "      <td>4528.205078</td>\n",
       "      <td>8244.102539</td>\n",
       "      <td>5930.256348</td>\n",
       "      <td>8662.050781</td>\n",
       "      <td>8061.025391</td>\n",
       "      <td>8162.051270</td>\n",
       "      <td>346.0</td>\n",
       "      <td>0.0</td>\n",
       "    </tr>\n",
       "    <tr>\n",
       "      <th>1</th>\n",
       "      <td>103.0</td>\n",
       "      <td>0.0</td>\n",
       "      <td>78.286767</td>\n",
       "      <td>-4.17838</td>\n",
       "      <td>-4.441258</td>\n",
       "      <td>-9.226732</td>\n",
       "      <td>-11.700883</td>\n",
       "      <td>-6.188615</td>\n",
       "      <td>-6.441889</td>\n",
       "      <td>-10.214907</td>\n",
       "      <td>...</td>\n",
       "      <td>8186.153809</td>\n",
       "      <td>8211.794922</td>\n",
       "      <td>4528.205078</td>\n",
       "      <td>8244.102539</td>\n",
       "      <td>5930.256348</td>\n",
       "      <td>8662.050781</td>\n",
       "      <td>8061.025391</td>\n",
       "      <td>8162.051270</td>\n",
       "      <td>346.0</td>\n",
       "      <td>0.0</td>\n",
       "    </tr>\n",
       "    <tr>\n",
       "      <th>2</th>\n",
       "      <td>104.0</td>\n",
       "      <td>0.0</td>\n",
       "      <td>78.286767</td>\n",
       "      <td>-4.17838</td>\n",
       "      <td>-4.441258</td>\n",
       "      <td>-9.226732</td>\n",
       "      <td>-11.700883</td>\n",
       "      <td>-6.188615</td>\n",
       "      <td>-6.441889</td>\n",
       "      <td>-10.214907</td>\n",
       "      <td>...</td>\n",
       "      <td>8190.769043</td>\n",
       "      <td>8209.230469</td>\n",
       "      <td>4541.025391</td>\n",
       "      <td>8238.974609</td>\n",
       "      <td>5949.230469</td>\n",
       "      <td>8655.897461</td>\n",
       "      <td>8058.974121</td>\n",
       "      <td>8161.025391</td>\n",
       "      <td>346.0</td>\n",
       "      <td>0.0</td>\n",
       "    </tr>\n",
       "    <tr>\n",
       "      <th>3</th>\n",
       "      <td>105.0</td>\n",
       "      <td>0.0</td>\n",
       "      <td>78.286767</td>\n",
       "      <td>-4.17838</td>\n",
       "      <td>-4.441258</td>\n",
       "      <td>-9.226732</td>\n",
       "      <td>-11.700883</td>\n",
       "      <td>-6.188615</td>\n",
       "      <td>-6.441889</td>\n",
       "      <td>-10.214907</td>\n",
       "      <td>...</td>\n",
       "      <td>8190.769043</td>\n",
       "      <td>8209.230469</td>\n",
       "      <td>4541.025391</td>\n",
       "      <td>8238.974609</td>\n",
       "      <td>5949.230469</td>\n",
       "      <td>8655.897461</td>\n",
       "      <td>8058.974121</td>\n",
       "      <td>8161.025391</td>\n",
       "      <td>346.0</td>\n",
       "      <td>0.0</td>\n",
       "    </tr>\n",
       "    <tr>\n",
       "      <th>4</th>\n",
       "      <td>106.0</td>\n",
       "      <td>0.0</td>\n",
       "      <td>78.286767</td>\n",
       "      <td>-4.17838</td>\n",
       "      <td>-4.441258</td>\n",
       "      <td>-9.226732</td>\n",
       "      <td>-11.700883</td>\n",
       "      <td>-6.188615</td>\n",
       "      <td>-6.441889</td>\n",
       "      <td>-10.214907</td>\n",
       "      <td>...</td>\n",
       "      <td>8187.179199</td>\n",
       "      <td>8204.102539</td>\n",
       "      <td>4512.820312</td>\n",
       "      <td>8190.769043</td>\n",
       "      <td>5997.948730</td>\n",
       "      <td>8656.922852</td>\n",
       "      <td>8058.974121</td>\n",
       "      <td>8158.974121</td>\n",
       "      <td>346.0</td>\n",
       "      <td>0.0</td>\n",
       "    </tr>\n",
       "    <tr>\n",
       "      <th>5</th>\n",
       "      <td>107.0</td>\n",
       "      <td>0.0</td>\n",
       "      <td>78.286767</td>\n",
       "      <td>-4.17838</td>\n",
       "      <td>-4.441258</td>\n",
       "      <td>-9.226732</td>\n",
       "      <td>-11.700883</td>\n",
       "      <td>-6.188615</td>\n",
       "      <td>-6.441889</td>\n",
       "      <td>-10.214907</td>\n",
       "      <td>...</td>\n",
       "      <td>8187.179199</td>\n",
       "      <td>8204.102539</td>\n",
       "      <td>4512.820312</td>\n",
       "      <td>8190.769043</td>\n",
       "      <td>5997.948730</td>\n",
       "      <td>8656.922852</td>\n",
       "      <td>8058.974121</td>\n",
       "      <td>8158.974121</td>\n",
       "      <td>346.0</td>\n",
       "      <td>0.0</td>\n",
       "    </tr>\n",
       "    <tr>\n",
       "      <th>6</th>\n",
       "      <td>108.0</td>\n",
       "      <td>0.0</td>\n",
       "      <td>78.286767</td>\n",
       "      <td>-4.17838</td>\n",
       "      <td>-4.441258</td>\n",
       "      <td>-9.226732</td>\n",
       "      <td>-11.700883</td>\n",
       "      <td>-6.188615</td>\n",
       "      <td>-6.441889</td>\n",
       "      <td>-10.214907</td>\n",
       "      <td>...</td>\n",
       "      <td>8181.025391</td>\n",
       "      <td>8190.769043</td>\n",
       "      <td>4509.230469</td>\n",
       "      <td>8308.205078</td>\n",
       "      <td>5977.948730</td>\n",
       "      <td>8656.922852</td>\n",
       "      <td>8056.922852</td>\n",
       "      <td>8157.948730</td>\n",
       "      <td>347.0</td>\n",
       "      <td>0.0</td>\n",
       "    </tr>\n",
       "    <tr>\n",
       "      <th>7</th>\n",
       "      <td>109.0</td>\n",
       "      <td>0.0</td>\n",
       "      <td>78.286767</td>\n",
       "      <td>-4.17838</td>\n",
       "      <td>-4.441258</td>\n",
       "      <td>-9.226732</td>\n",
       "      <td>-11.700883</td>\n",
       "      <td>-6.188615</td>\n",
       "      <td>-6.441889</td>\n",
       "      <td>-10.214907</td>\n",
       "      <td>...</td>\n",
       "      <td>8181.025391</td>\n",
       "      <td>8190.769043</td>\n",
       "      <td>4509.230469</td>\n",
       "      <td>8308.205078</td>\n",
       "      <td>5977.948730</td>\n",
       "      <td>8656.922852</td>\n",
       "      <td>8056.922852</td>\n",
       "      <td>8157.948730</td>\n",
       "      <td>347.0</td>\n",
       "      <td>0.0</td>\n",
       "    </tr>\n",
       "    <tr>\n",
       "      <th>8</th>\n",
       "      <td>110.0</td>\n",
       "      <td>0.0</td>\n",
       "      <td>78.286767</td>\n",
       "      <td>-4.17838</td>\n",
       "      <td>-4.441258</td>\n",
       "      <td>-9.226732</td>\n",
       "      <td>-11.700883</td>\n",
       "      <td>-6.188615</td>\n",
       "      <td>-6.441889</td>\n",
       "      <td>-10.214907</td>\n",
       "      <td>...</td>\n",
       "      <td>8186.153809</td>\n",
       "      <td>8190.769043</td>\n",
       "      <td>4536.922852</td>\n",
       "      <td>8225.127930</td>\n",
       "      <td>5944.102539</td>\n",
       "      <td>8660.000000</td>\n",
       "      <td>8060.000000</td>\n",
       "      <td>8162.051270</td>\n",
       "      <td>347.0</td>\n",
       "      <td>0.0</td>\n",
       "    </tr>\n",
       "    <tr>\n",
       "      <th>9</th>\n",
       "      <td>111.0</td>\n",
       "      <td>0.0</td>\n",
       "      <td>78.286767</td>\n",
       "      <td>-4.17838</td>\n",
       "      <td>-4.441258</td>\n",
       "      <td>-9.226732</td>\n",
       "      <td>-11.700883</td>\n",
       "      <td>-6.188615</td>\n",
       "      <td>-6.441889</td>\n",
       "      <td>-10.214907</td>\n",
       "      <td>...</td>\n",
       "      <td>8186.153809</td>\n",
       "      <td>8190.769043</td>\n",
       "      <td>4536.922852</td>\n",
       "      <td>8225.127930</td>\n",
       "      <td>5944.102539</td>\n",
       "      <td>8660.000000</td>\n",
       "      <td>8060.000000</td>\n",
       "      <td>8162.051270</td>\n",
       "      <td>347.0</td>\n",
       "      <td>0.0</td>\n",
       "    </tr>\n",
       "  </tbody>\n",
       "</table>\n",
       "<p>10 rows × 52 columns</p>\n",
       "</div>"
      ],
      "text/plain": [
       "   COUNTER  INTERPOLATED        AF3       F7        F3       FC5         T7  \\\n",
       "0    102.0           0.0  78.286767 -4.17838 -4.441258 -9.226732 -11.700883   \n",
       "1    103.0           0.0  78.286767 -4.17838 -4.441258 -9.226732 -11.700883   \n",
       "2    104.0           0.0  78.286767 -4.17838 -4.441258 -9.226732 -11.700883   \n",
       "3    105.0           0.0  78.286767 -4.17838 -4.441258 -9.226732 -11.700883   \n",
       "4    106.0           0.0  78.286767 -4.17838 -4.441258 -9.226732 -11.700883   \n",
       "5    107.0           0.0  78.286767 -4.17838 -4.441258 -9.226732 -11.700883   \n",
       "6    108.0           0.0  78.286767 -4.17838 -4.441258 -9.226732 -11.700883   \n",
       "7    109.0           0.0  78.286767 -4.17838 -4.441258 -9.226732 -11.700883   \n",
       "8    110.0           0.0  78.286767 -4.17838 -4.441258 -9.226732 -11.700883   \n",
       "9    111.0           0.0  78.286767 -4.17838 -4.441258 -9.226732 -11.700883   \n",
       "\n",
       "         P7        O1         O2  ...      GYROY_md        GYROZ         ACCX  \\\n",
       "0 -6.188615 -6.441889 -10.214907  ...   8186.153809  8211.794922  4528.205078   \n",
       "1 -6.188615 -6.441889 -10.214907  ...   8186.153809  8211.794922  4528.205078   \n",
       "2 -6.188615 -6.441889 -10.214907  ...   8190.769043  8209.230469  4541.025391   \n",
       "3 -6.188615 -6.441889 -10.214907  ...   8190.769043  8209.230469  4541.025391   \n",
       "4 -6.188615 -6.441889 -10.214907  ...   8187.179199  8204.102539  4512.820312   \n",
       "5 -6.188615 -6.441889 -10.214907  ...   8187.179199  8204.102539  4512.820312   \n",
       "6 -6.188615 -6.441889 -10.214907  ...   8181.025391  8190.769043  4509.230469   \n",
       "7 -6.188615 -6.441889 -10.214907  ...   8181.025391  8190.769043  4509.230469   \n",
       "8 -6.188615 -6.441889 -10.214907  ...   8186.153809  8190.769043  4536.922852   \n",
       "9 -6.188615 -6.441889 -10.214907  ...   8186.153809  8190.769043  4536.922852   \n",
       "\n",
       "          ACCY         ACCZ         MAGX         MAGY         MAGZ  \\\n",
       "0  8244.102539  5930.256348  8662.050781  8061.025391  8162.051270   \n",
       "1  8244.102539  5930.256348  8662.050781  8061.025391  8162.051270   \n",
       "2  8238.974609  5949.230469  8655.897461  8058.974121  8161.025391   \n",
       "3  8238.974609  5949.230469  8655.897461  8058.974121  8161.025391   \n",
       "4  8190.769043  5997.948730  8656.922852  8058.974121  8158.974121   \n",
       "5  8190.769043  5997.948730  8656.922852  8058.974121  8158.974121   \n",
       "6  8308.205078  5977.948730  8656.922852  8056.922852  8157.948730   \n",
       "7  8308.205078  5977.948730  8656.922852  8056.922852  8157.948730   \n",
       "8  8225.127930  5944.102539  8660.000000  8060.000000  8162.051270   \n",
       "9  8225.127930  5944.102539  8660.000000  8060.000000  8162.051270   \n",
       "\n",
       "   TIME_STAMP_s_md  mask  \n",
       "0            346.0   0.0  \n",
       "1            346.0   0.0  \n",
       "2            346.0   0.0  \n",
       "3            346.0   0.0  \n",
       "4            346.0   0.0  \n",
       "5            346.0   0.0  \n",
       "6            347.0   0.0  \n",
       "7            347.0   0.0  \n",
       "8            347.0   0.0  \n",
       "9            347.0   0.0  \n",
       "\n",
       "[10 rows x 52 columns]"
      ]
     },
     "execution_count": 25,
     "metadata": {},
     "output_type": "execute_result"
    }
   ],
   "source": [
    "# check whether everything looks okay, then proceed\n",
    "print(data.shape)\n",
    "print(data2.shape)\n",
    "data.head(10)\n",
    "data2.head(10)"
   ]
  },
  {
   "cell_type": "code",
   "execution_count": 33,
   "metadata": {
    "collapsed": false
   },
   "outputs": [
    {
     "name": "stdout",
     "output_type": "stream",
     "text": [
      "C:\\Users\\tlpel\\Documents\\Studie\\AI1\\pAI\\code\\unsupervised data\\old\\\n",
      "(78000, 36)\n",
      "(80000, 36)\n",
      "(79000, 36)\n",
      "(80000, 36)\n",
      "(77000, 36)\n",
      "(191000, 36)\n",
      "(269000, 36)\n",
      "(460000, 36)\n"
     ]
    }
   ],
   "source": [
    "# Load the unsupervised data from folder, make sure the folder name is unsupervised data and in your path\n",
    "dataset = []\n",
    "path = os.getcwd() + '\\\\unsupervised data\\\\old\\\\'\n",
    "print(path)\n",
    "for file in os.listdir(path):\n",
    "    if file.endswith(\".CSV\"):\n",
    "        data3 = pd.read_csv(path + file)\n",
    "        print(data3.shape)\n",
    "        dataset.append(data3)\n",
    "    '''if file.endswith(\".edf\"):\n",
    "        print(path+file)\n",
    "        reader = pyedflib.EdfReader(path+file)\n",
    "        print(reader)'''\n",
    "\n",
    "# Get one long data file\n",
    "data3 = pd.concat(dataset, ignore_index=True)"
   ]
  },
  {
   "cell_type": "code",
   "execution_count": 27,
   "metadata": {
    "collapsed": false
   },
   "outputs": [],
   "source": [
    "path = os.getcwd() + '\\\\unsupervised data\\\\'\n",
    "dataset = []\n",
    "names = []\n",
    "i = -1\n",
    "db1 = 0\n",
    "db2 = 0\n",
    "for file in os.listdir(path):\n",
    "    if file.endswith(\".md.csv\"):\n",
    "        i += 1\n",
    "        db2 = pd.read_csv(path + file, skiprows=[0])\n",
    "        header = {}\n",
    "        f = open(path + file, 'r')\n",
    "        for h in f.readline().split(','):\n",
    "            hh = h.split(':')\n",
    "            header[hh[0].replace(' ', '')] = hh[1].split()\n",
    "        f.close()\n",
    "        db2.columns = header['labels']\n",
    "        db2.TIME_STAMP_ms += db2.TIME_STAMP_s * 1000\n",
    "    elif file.endswith(\".csv\"):\n",
    "        i += 1\n",
    "        names.append(file)\n",
    "        db1 = pd.read_csv(path + file, skiprows=[0])\n",
    "        header = {}\n",
    "        f = open(path + file, 'r')\n",
    "        for h in f.readline().split(','):\n",
    "            hh = h.split(':')\n",
    "            header[hh[0].replace(' ', '')] = hh[1].split()\n",
    "        f.close()\n",
    "        db1.columns = header['labels']\n",
    "        db1.TIME_STAMP_ms += db1.TIME_STAMP_s * 1000\n",
    "\n",
    "    if i % 2 == 1 and not file.endswith('old'):\n",
    "        data = pd.merge(db1, db2, on='TIME_STAMP_ms', how='left', suffixes=['_eeg', '_md'])\n",
    "        header['labels'] = list(data.columns)\n",
    "        dataset.append(data.ffill().bfill())\n",
    "        \n",
    "# Get one long data file\n",
    "data4 = pd.concat(dataset, ignore_index=True)"
   ]
  },
  {
   "cell_type": "code",
   "execution_count": 35,
   "metadata": {
    "collapsed": false
   },
   "outputs": [
    {
     "name": "stdout",
     "output_type": "stream",
     "text": [
      "(1314000, 37)\n",
      "(1456761, 52)\n",
      "(1314000, 36)\n",
      "(1456761, 51)\n"
     ]
    },
    {
     "data": {
      "text/html": [
       "<div>\n",
       "<table border=\"1\" class=\"dataframe\">\n",
       "  <thead>\n",
       "    <tr style=\"text-align: right;\">\n",
       "      <th></th>\n",
       "      <th>COUNTER</th>\n",
       "      <th>INTERPOLATED</th>\n",
       "      <th>AF3</th>\n",
       "      <th>F7</th>\n",
       "      <th>F3</th>\n",
       "      <th>FC5</th>\n",
       "      <th>T7</th>\n",
       "      <th>P7</th>\n",
       "      <th>O1</th>\n",
       "      <th>O2</th>\n",
       "      <th>...</th>\n",
       "      <th>CQ_FC6</th>\n",
       "      <th>CQ_F4</th>\n",
       "      <th>CQ_F8</th>\n",
       "      <th>CQ_AF4</th>\n",
       "      <th>CQ_CMS</th>\n",
       "      <th>CQ_DRL</th>\n",
       "      <th>GYROX</th>\n",
       "      <th>GYROY</th>\n",
       "      <th>MARKER</th>\n",
       "      <th>mask</th>\n",
       "    </tr>\n",
       "  </thead>\n",
       "  <tbody>\n",
       "    <tr>\n",
       "      <th>0</th>\n",
       "      <td>53.0</td>\n",
       "      <td>0.0</td>\n",
       "      <td>-14.082761</td>\n",
       "      <td>-5.233143</td>\n",
       "      <td>-9.073006</td>\n",
       "      <td>-4.894746</td>\n",
       "      <td>-43.470163</td>\n",
       "      <td>-6.084496</td>\n",
       "      <td>-4.089003</td>\n",
       "      <td>-15.152149</td>\n",
       "      <td>...</td>\n",
       "      <td>4.0</td>\n",
       "      <td>4.0</td>\n",
       "      <td>4.0</td>\n",
       "      <td>4.0</td>\n",
       "      <td>4.0</td>\n",
       "      <td>4.0</td>\n",
       "      <td>1672.0</td>\n",
       "      <td>1679.0</td>\n",
       "      <td>0.0</td>\n",
       "      <td>0.0</td>\n",
       "    </tr>\n",
       "    <tr>\n",
       "      <th>1</th>\n",
       "      <td>54.0</td>\n",
       "      <td>0.0</td>\n",
       "      <td>-14.082761</td>\n",
       "      <td>-5.233143</td>\n",
       "      <td>-9.073006</td>\n",
       "      <td>-4.894746</td>\n",
       "      <td>-43.470163</td>\n",
       "      <td>-6.084496</td>\n",
       "      <td>-4.089003</td>\n",
       "      <td>-15.152149</td>\n",
       "      <td>...</td>\n",
       "      <td>4.0</td>\n",
       "      <td>4.0</td>\n",
       "      <td>4.0</td>\n",
       "      <td>4.0</td>\n",
       "      <td>4.0</td>\n",
       "      <td>4.0</td>\n",
       "      <td>1672.0</td>\n",
       "      <td>1679.0</td>\n",
       "      <td>0.0</td>\n",
       "      <td>0.0</td>\n",
       "    </tr>\n",
       "    <tr>\n",
       "      <th>2</th>\n",
       "      <td>55.0</td>\n",
       "      <td>0.0</td>\n",
       "      <td>-14.082761</td>\n",
       "      <td>-5.233143</td>\n",
       "      <td>-9.073006</td>\n",
       "      <td>-4.894746</td>\n",
       "      <td>-43.470163</td>\n",
       "      <td>-6.084496</td>\n",
       "      <td>-4.089003</td>\n",
       "      <td>-15.152149</td>\n",
       "      <td>...</td>\n",
       "      <td>4.0</td>\n",
       "      <td>4.0</td>\n",
       "      <td>4.0</td>\n",
       "      <td>4.0</td>\n",
       "      <td>4.0</td>\n",
       "      <td>4.0</td>\n",
       "      <td>1670.0</td>\n",
       "      <td>1680.0</td>\n",
       "      <td>0.0</td>\n",
       "      <td>0.0</td>\n",
       "    </tr>\n",
       "    <tr>\n",
       "      <th>3</th>\n",
       "      <td>56.0</td>\n",
       "      <td>0.0</td>\n",
       "      <td>-14.082761</td>\n",
       "      <td>-5.233143</td>\n",
       "      <td>-9.073006</td>\n",
       "      <td>-4.894746</td>\n",
       "      <td>-43.470163</td>\n",
       "      <td>-6.084496</td>\n",
       "      <td>-4.089003</td>\n",
       "      <td>-15.152149</td>\n",
       "      <td>...</td>\n",
       "      <td>4.0</td>\n",
       "      <td>4.0</td>\n",
       "      <td>4.0</td>\n",
       "      <td>4.0</td>\n",
       "      <td>4.0</td>\n",
       "      <td>4.0</td>\n",
       "      <td>1670.0</td>\n",
       "      <td>1682.0</td>\n",
       "      <td>0.0</td>\n",
       "      <td>0.0</td>\n",
       "    </tr>\n",
       "    <tr>\n",
       "      <th>4</th>\n",
       "      <td>57.0</td>\n",
       "      <td>0.0</td>\n",
       "      <td>-14.082761</td>\n",
       "      <td>-5.233143</td>\n",
       "      <td>-9.073006</td>\n",
       "      <td>-4.894746</td>\n",
       "      <td>-43.470163</td>\n",
       "      <td>-6.084496</td>\n",
       "      <td>-4.089003</td>\n",
       "      <td>-15.152149</td>\n",
       "      <td>...</td>\n",
       "      <td>4.0</td>\n",
       "      <td>4.0</td>\n",
       "      <td>4.0</td>\n",
       "      <td>4.0</td>\n",
       "      <td>4.0</td>\n",
       "      <td>4.0</td>\n",
       "      <td>1669.0</td>\n",
       "      <td>1683.0</td>\n",
       "      <td>0.0</td>\n",
       "      <td>0.0</td>\n",
       "    </tr>\n",
       "    <tr>\n",
       "      <th>5</th>\n",
       "      <td>58.0</td>\n",
       "      <td>0.0</td>\n",
       "      <td>-14.082761</td>\n",
       "      <td>-5.233143</td>\n",
       "      <td>-9.073006</td>\n",
       "      <td>-4.894746</td>\n",
       "      <td>-43.470163</td>\n",
       "      <td>-6.084496</td>\n",
       "      <td>-4.089003</td>\n",
       "      <td>-15.152149</td>\n",
       "      <td>...</td>\n",
       "      <td>4.0</td>\n",
       "      <td>4.0</td>\n",
       "      <td>4.0</td>\n",
       "      <td>4.0</td>\n",
       "      <td>4.0</td>\n",
       "      <td>4.0</td>\n",
       "      <td>1669.0</td>\n",
       "      <td>1686.0</td>\n",
       "      <td>0.0</td>\n",
       "      <td>0.0</td>\n",
       "    </tr>\n",
       "    <tr>\n",
       "      <th>6</th>\n",
       "      <td>59.0</td>\n",
       "      <td>0.0</td>\n",
       "      <td>-14.082761</td>\n",
       "      <td>-5.233143</td>\n",
       "      <td>-9.073006</td>\n",
       "      <td>-4.894746</td>\n",
       "      <td>-43.470163</td>\n",
       "      <td>-6.084496</td>\n",
       "      <td>-4.089003</td>\n",
       "      <td>-15.152149</td>\n",
       "      <td>...</td>\n",
       "      <td>4.0</td>\n",
       "      <td>4.0</td>\n",
       "      <td>4.0</td>\n",
       "      <td>4.0</td>\n",
       "      <td>4.0</td>\n",
       "      <td>4.0</td>\n",
       "      <td>1670.0</td>\n",
       "      <td>1685.0</td>\n",
       "      <td>0.0</td>\n",
       "      <td>0.0</td>\n",
       "    </tr>\n",
       "    <tr>\n",
       "      <th>7</th>\n",
       "      <td>60.0</td>\n",
       "      <td>0.0</td>\n",
       "      <td>-14.082761</td>\n",
       "      <td>-5.233143</td>\n",
       "      <td>-9.073006</td>\n",
       "      <td>-4.894746</td>\n",
       "      <td>-43.470163</td>\n",
       "      <td>-6.084496</td>\n",
       "      <td>-4.089003</td>\n",
       "      <td>-15.152149</td>\n",
       "      <td>...</td>\n",
       "      <td>4.0</td>\n",
       "      <td>4.0</td>\n",
       "      <td>4.0</td>\n",
       "      <td>4.0</td>\n",
       "      <td>4.0</td>\n",
       "      <td>4.0</td>\n",
       "      <td>1668.0</td>\n",
       "      <td>1687.0</td>\n",
       "      <td>0.0</td>\n",
       "      <td>0.0</td>\n",
       "    </tr>\n",
       "    <tr>\n",
       "      <th>8</th>\n",
       "      <td>61.0</td>\n",
       "      <td>0.0</td>\n",
       "      <td>-14.082761</td>\n",
       "      <td>-5.233143</td>\n",
       "      <td>-9.073006</td>\n",
       "      <td>-4.894746</td>\n",
       "      <td>-43.470163</td>\n",
       "      <td>-6.084496</td>\n",
       "      <td>-4.089003</td>\n",
       "      <td>-15.152149</td>\n",
       "      <td>...</td>\n",
       "      <td>4.0</td>\n",
       "      <td>4.0</td>\n",
       "      <td>4.0</td>\n",
       "      <td>4.0</td>\n",
       "      <td>4.0</td>\n",
       "      <td>4.0</td>\n",
       "      <td>1670.0</td>\n",
       "      <td>1686.0</td>\n",
       "      <td>0.0</td>\n",
       "      <td>0.0</td>\n",
       "    </tr>\n",
       "    <tr>\n",
       "      <th>9</th>\n",
       "      <td>62.0</td>\n",
       "      <td>0.0</td>\n",
       "      <td>-14.082761</td>\n",
       "      <td>-5.233143</td>\n",
       "      <td>-9.073006</td>\n",
       "      <td>-4.894746</td>\n",
       "      <td>-43.470163</td>\n",
       "      <td>-6.084496</td>\n",
       "      <td>-4.089003</td>\n",
       "      <td>-15.152149</td>\n",
       "      <td>...</td>\n",
       "      <td>4.0</td>\n",
       "      <td>4.0</td>\n",
       "      <td>4.0</td>\n",
       "      <td>4.0</td>\n",
       "      <td>4.0</td>\n",
       "      <td>4.0</td>\n",
       "      <td>1669.0</td>\n",
       "      <td>1686.0</td>\n",
       "      <td>0.0</td>\n",
       "      <td>0.0</td>\n",
       "    </tr>\n",
       "  </tbody>\n",
       "</table>\n",
       "<p>10 rows × 37 columns</p>\n",
       "</div>"
      ],
      "text/plain": [
       "   COUNTER   INTERPOLATED        AF3        F7        F3       FC5         T7  \\\n",
       "0     53.0            0.0 -14.082761 -5.233143 -9.073006 -4.894746 -43.470163   \n",
       "1     54.0            0.0 -14.082761 -5.233143 -9.073006 -4.894746 -43.470163   \n",
       "2     55.0            0.0 -14.082761 -5.233143 -9.073006 -4.894746 -43.470163   \n",
       "3     56.0            0.0 -14.082761 -5.233143 -9.073006 -4.894746 -43.470163   \n",
       "4     57.0            0.0 -14.082761 -5.233143 -9.073006 -4.894746 -43.470163   \n",
       "5     58.0            0.0 -14.082761 -5.233143 -9.073006 -4.894746 -43.470163   \n",
       "6     59.0            0.0 -14.082761 -5.233143 -9.073006 -4.894746 -43.470163   \n",
       "7     60.0            0.0 -14.082761 -5.233143 -9.073006 -4.894746 -43.470163   \n",
       "8     61.0            0.0 -14.082761 -5.233143 -9.073006 -4.894746 -43.470163   \n",
       "9     62.0            0.0 -14.082761 -5.233143 -9.073006 -4.894746 -43.470163   \n",
       "\n",
       "         P7        O1         O2  ...    CQ_FC6   CQ_F4   CQ_F8   CQ_AF4  \\\n",
       "0 -6.084496 -4.089003 -15.152149  ...       4.0     4.0     4.0      4.0   \n",
       "1 -6.084496 -4.089003 -15.152149  ...       4.0     4.0     4.0      4.0   \n",
       "2 -6.084496 -4.089003 -15.152149  ...       4.0     4.0     4.0      4.0   \n",
       "3 -6.084496 -4.089003 -15.152149  ...       4.0     4.0     4.0      4.0   \n",
       "4 -6.084496 -4.089003 -15.152149  ...       4.0     4.0     4.0      4.0   \n",
       "5 -6.084496 -4.089003 -15.152149  ...       4.0     4.0     4.0      4.0   \n",
       "6 -6.084496 -4.089003 -15.152149  ...       4.0     4.0     4.0      4.0   \n",
       "7 -6.084496 -4.089003 -15.152149  ...       4.0     4.0     4.0      4.0   \n",
       "8 -6.084496 -4.089003 -15.152149  ...       4.0     4.0     4.0      4.0   \n",
       "9 -6.084496 -4.089003 -15.152149  ...       4.0     4.0     4.0      4.0   \n",
       "\n",
       "    CQ_CMS   CQ_DRL   GYROX   GYROY   MARKER  mask  \n",
       "0      4.0      4.0  1672.0  1679.0      0.0   0.0  \n",
       "1      4.0      4.0  1672.0  1679.0      0.0   0.0  \n",
       "2      4.0      4.0  1670.0  1680.0      0.0   0.0  \n",
       "3      4.0      4.0  1670.0  1682.0      0.0   0.0  \n",
       "4      4.0      4.0  1669.0  1683.0      0.0   0.0  \n",
       "5      4.0      4.0  1669.0  1686.0      0.0   0.0  \n",
       "6      4.0      4.0  1670.0  1685.0      0.0   0.0  \n",
       "7      4.0      4.0  1668.0  1687.0      0.0   0.0  \n",
       "8      4.0      4.0  1670.0  1686.0      0.0   0.0  \n",
       "9      4.0      4.0  1669.0  1686.0      0.0   0.0  \n",
       "\n",
       "[10 rows x 37 columns]"
      ]
     },
     "execution_count": 35,
     "metadata": {},
     "output_type": "execute_result"
    }
   ],
   "source": [
    "# check whether everything looks okay, then proceed\n",
    "print(data.shape)\n",
    "print(data2.shape)\n",
    "print(data3.shape)\n",
    "print(data4.shape)\n",
    "data.head(10)\n",
    "data.head(10)"
   ]
  },
  {
   "cell_type": "markdown",
   "metadata": {
    "collapsed": true
   },
   "source": [
    "### Deep Autoencoder"
   ]
  },
  {
   "cell_type": "code",
   "execution_count": 6,
   "metadata": {
    "collapsed": false
   },
   "outputs": [],
   "source": [
    "# Do a 66/34 split of training and test. Play a bit with this to get nice sized training and test sets.\n",
    "n_train = int(data.shape[0]*0.66) \n",
    "n_test = data.shape[0] - n_train\n",
    "\n",
    "x_train = data.loc[:n_train-1, ' AF3':' AF4'].values\n",
    "x_test = data.loc[n_train:, ' AF3':' AF4'].values\n",
    "\n",
    "x_train.shape, x_test.shape, type(x_train), n_train, n_test"
   ]
  },
  {
   "cell_type": "code",
   "execution_count": 7,
   "metadata": {
    "collapsed": false
   },
   "outputs": [],
   "source": [
    "# Deep autoencoder\n",
    "datapoint_dim = [1, CHANNELS * TIMESTAMPS]  # dimensionality of one datapoint\n",
    "input_dim = CHANNELS * TIMESTAMPS # 28 timepoints of 14 channels (about 0.23 seconds of data)\n",
    "hidden_dim = 64  # For 280-dimensional input data (20*14) these layer sizes seem to suffice. Play with this if you change the input.\n",
    "encoding_dim = 32\n",
    "\n",
    "# this is our input placeholder\n",
    "input_eeg = Input(shape=(input_dim,))\n",
    "\n",
    "# \"encoded\" is the encoded representation of the input\n",
    "encoded = Dense(hidden_dim, activation=\"relu\")(input_eeg)\n",
    "encoded = Dense(encoding_dim, activation='relu')(encoded)\n",
    "\n",
    "# \"decoded\" is the lossy reconstruction of the input\n",
    "decoded = Dense(hidden_dim, activation='relu')(encoded)\n",
    "decoded = Dense(input_dim, activation='sigmoid')(decoded)\n",
    "\n",
    "# this model maps an input to its reconstruction\n",
    "autoencoder = Model(input_eeg, decoded)"
   ]
  },
  {
   "cell_type": "code",
   "execution_count": 8,
   "metadata": {
    "collapsed": false
   },
   "outputs": [],
   "source": [
    "# this model maps an input to its encoded representation\n",
    "encoder = Model(input_eeg, encoded)\n",
    "\n",
    "# this model maps an encoded representation to a reconstruction\n",
    "# decoder = Model(encoded, decoded)"
   ]
  },
  {
   "cell_type": "code",
   "execution_count": 9,
   "metadata": {
    "collapsed": false
   },
   "outputs": [],
   "source": [
    "# create a placeholder for an encoded input\n",
    "encoded_input = Input(shape=(encoding_dim,))\n",
    "\n",
    "# retrieve the decoder layers of the autoencoder model\n",
    "decoder_layer = autoencoder.layers[-2](encoded_input)\n",
    "decoder_layer = autoencoder.layers[-1](decoder_layer)\n",
    "\n",
    "# create the decoder model\n",
    "decoder = Model(encoded_input, decoder_layer)"
   ]
  },
  {
   "cell_type": "code",
   "execution_count": 10,
   "metadata": {
    "collapsed": true
   },
   "outputs": [],
   "source": [
    "autoencoder.compile(optimizer='adam', loss='mean_squared_error')"
   ]
  },
  {
   "cell_type": "code",
   "execution_count": null,
   "metadata": {
    "collapsed": true
   },
   "outputs": [],
   "source": []
  },
  {
   "cell_type": "code",
   "execution_count": 11,
   "metadata": {
    "collapsed": false
   },
   "outputs": [
    {
     "data": {
      "text/plain": [
       "((28182, 280), (14518, 280))"
      ]
     },
     "execution_count": 11,
     "metadata": {},
     "output_type": "execute_result"
    }
   ],
   "source": [
    "#We will normalize all values between 0 and 1 and we will flatten the 28x28 images into vectors of size 784.\n",
    "\n",
    "normalize = max(np.amax(x_train), np.amax(x_test))\n",
    "\n",
    "x_train = x_train.astype('float32') / normalize\n",
    "x_test = x_test.astype('float32') / normalize\n",
    "x_train = x_train.reshape(int(n_train/20.0), 14*20)\n",
    "x_test = x_test.reshape(int(n_test/20.0), 14*20)\n",
    "x_train.shape, x_test.shape"
   ]
  },
  {
   "cell_type": "code",
   "execution_count": 12,
   "metadata": {
    "collapsed": false
   },
   "outputs": [
    {
     "name": "stdout",
     "output_type": "stream",
     "text": [
      "Epoch 1/50\n",
      "28182/28182 [==============================] - 8s - loss: 2.9815e-04     \n",
      "Epoch 2/50\n",
      "28182/28182 [==============================] - 2s - loss: 1.6537e-04     \n",
      "Epoch 3/50\n",
      "28182/28182 [==============================] - 5s - loss: 1.4896e-04     \n",
      "Epoch 4/50\n",
      "28182/28182 [==============================] - 1s - loss: 1.3800e-04     \n",
      "Epoch 5/50\n",
      "28182/28182 [==============================] - 2s - loss: 1.2190e-04     \n",
      "Epoch 6/50\n",
      "28182/28182 [==============================] - 5s - loss: 1.1251e-04     \n",
      "Epoch 7/50\n",
      "28182/28182 [==============================] - 1s - loss: 1.0087e-04     \n",
      "Epoch 8/50\n",
      "28182/28182 [==============================] - 5s - loss: 9.3674e-05     \n",
      "Epoch 9/50\n",
      "28182/28182 [==============================] - 2s - loss: 8.3456e-05     \n",
      "Epoch 10/50\n",
      "28182/28182 [==============================] - 1s - loss: 7.4513e-05     \n",
      "Epoch 11/50\n",
      "28182/28182 [==============================] - 3s - loss: 6.8755e-05     \n",
      "Epoch 12/50\n",
      "28182/28182 [==============================] - 5s - loss: 6.3337e-05     \n",
      "Epoch 13/50\n",
      "28182/28182 [==============================] - 1s - loss: 5.9286e-05     \n",
      "Epoch 14/50\n",
      "28182/28182 [==============================] - 1s - loss: 5.5270e-05     \n",
      "Epoch 15/50\n",
      "28182/28182 [==============================] - 3s - loss: 5.2103e-05     \n",
      "Epoch 16/50\n",
      "28182/28182 [==============================] - 4s - loss: 4.9442e-05     \n",
      "Epoch 17/50\n",
      "28182/28182 [==============================] - 1s - loss: 5.2650e-05     \n",
      "Epoch 18/50\n",
      "28182/28182 [==============================] - 1s - loss: 4.5955e-05     \n",
      "Epoch 19/50\n",
      "28182/28182 [==============================] - 2s - loss: 4.3671e-05     \n",
      "Epoch 20/50\n",
      "28182/28182 [==============================] - 5s - loss: 4.1599e-05     \n",
      "Epoch 21/50\n",
      "28182/28182 [==============================] - 1s - loss: 3.9174e-05     \n",
      "Epoch 22/50\n",
      "28182/28182 [==============================] - 1s - loss: 3.8118e-05     \n",
      "Epoch 23/50\n",
      "28182/28182 [==============================] - 5s - loss: 3.6059e-05     \n",
      "Epoch 24/50\n",
      "28182/28182 [==============================] - 2s - loss: 3.4302e-05     \n",
      "Epoch 25/50\n",
      "28182/28182 [==============================] - 1s - loss: 3.2413e-05     \n",
      "Epoch 26/50\n",
      "28182/28182 [==============================] - 1s - loss: 3.2448e-05     \n",
      "Epoch 27/50\n",
      "28182/28182 [==============================] - 4s - loss: 3.0799e-05     \n",
      "Epoch 28/50\n",
      "28182/28182 [==============================] - 4s - loss: 3.0387e-05     \n",
      "Epoch 29/50\n",
      "28182/28182 [==============================] - 1s - loss: 2.8837e-05     \n",
      "Epoch 30/50\n",
      "28182/28182 [==============================] - 4s - loss: 3.3836e-05     \n",
      "Epoch 31/50\n",
      "28182/28182 [==============================] - 4s - loss: 2.7945e-05     \n",
      "Epoch 32/50\n",
      "28182/28182 [==============================] - 1s - loss: 2.7868e-05     \n",
      "Epoch 33/50\n",
      "28182/28182 [==============================] - 1s - loss: 2.7244e-05     \n",
      "Epoch 34/50\n",
      "28182/28182 [==============================] - 1s - loss: 2.6155e-05     \n",
      "Epoch 35/50\n",
      "28182/28182 [==============================] - 3s - loss: 2.9818e-05     \n",
      "Epoch 36/50\n",
      "28182/28182 [==============================] - 5s - loss: 2.4753e-05     \n",
      "Epoch 37/50\n",
      "28182/28182 [==============================] - 1s - loss: 2.5131e-05     \n",
      "Epoch 38/50\n",
      "28182/28182 [==============================] - 3s - loss: 2.4145e-05     \n",
      "Epoch 39/50\n",
      "28182/28182 [==============================] - 5s - loss: 2.4539e-05     \n",
      "Epoch 40/50\n",
      "28182/28182 [==============================] - 1s - loss: 2.4008e-05     \n",
      "Epoch 41/50\n",
      "28182/28182 [==============================] - 2s - loss: 2.4392e-05     \n",
      "Epoch 42/50\n",
      "28182/28182 [==============================] - 5s - loss: 2.3891e-05     \n",
      "Epoch 43/50\n",
      "28182/28182 [==============================] - 1s - loss: 2.3037e-05     \n",
      "Epoch 44/50\n",
      "28182/28182 [==============================] - 2s - loss: 2.2987e-05     \n",
      "Epoch 45/50\n",
      "28182/28182 [==============================] - 5s - loss: 2.2853e-05     \n",
      "Epoch 46/50\n",
      "28182/28182 [==============================] - 2s - loss: 2.3054e-05     \n",
      "Epoch 47/50\n",
      "28182/28182 [==============================] - 1s - loss: 2.2233e-05     \n",
      "Epoch 48/50\n",
      "28182/28182 [==============================] - 5s - loss: 2.2949e-05     \n",
      "Epoch 49/50\n",
      "28182/28182 [==============================] - 2s - loss: 2.1645e-05     \n",
      "Epoch 50/50\n",
      "28182/28182 [==============================] - 2s - loss: 2.2444e-05     \n"
     ]
    },
    {
     "data": {
      "text/plain": [
       "<keras.callbacks.History at 0x1938d863f60>"
      ]
     },
     "execution_count": 12,
     "metadata": {},
     "output_type": "execute_result"
    }
   ],
   "source": [
    "#train\n",
    "autoencoder.fit(x_train, x_train,\n",
    "                epochs=50,\n",
    "                batch_size=64,\n",
    "                shuffle=True)"
   ]
  },
  {
   "cell_type": "markdown",
   "metadata": {},
   "source": [
    "## Convolutional Autoencoder"
   ]
  },
  {
   "cell_type": "code",
   "execution_count": 36,
   "metadata": {
    "collapsed": false
   },
   "outputs": [],
   "source": [
    "mask1 = data.loc[:, \"mask\"].values\n",
    "mask3 = data2.loc[:, \"mask\"].values"
   ]
  },
  {
   "cell_type": "code",
   "execution_count": 37,
   "metadata": {
    "collapsed": true
   },
   "outputs": [],
   "source": [
    "data =  data.loc[:, ' AF3':' AF4'].values\n",
    "data = data[mask1 > 0]\n",
    "data2 =  data2.loc[:, 'AF3':'AF4'].values\n",
    "data2 = data2[mask3 > 0]\n",
    "data3 =  data3.loc[:, ' AF3':' AF4'].values\n",
    "data3 = data3[mask1 > 0]\n",
    "data4 =  data4.loc[:, 'AF3':'AF4'].values\n",
    "data4 = data4[mask3 > 0]"
   ]
  },
  {
   "cell_type": "code",
   "execution_count": 38,
   "metadata": {
    "collapsed": false
   },
   "outputs": [
    {
     "name": "stdout",
     "output_type": "stream",
     "text": [
      "(1041534, 14)\n",
      "(1056344, 14)\n",
      "(1041534, 14)\n",
      "(1056344, 14)\n"
     ]
    }
   ],
   "source": [
    "print(data.shape)\n",
    "print(data2.shape)\n",
    "print(data3.shape)\n",
    "print(data4.shape)"
   ]
  },
  {
   "cell_type": "code",
   "execution_count": 39,
   "metadata": {
    "collapsed": true
   },
   "outputs": [],
   "source": [
    "clean_data = np.concatenate((data, data2))\n",
    "noisy_data = np.concatenate((data3, data4))"
   ]
  },
  {
   "cell_type": "code",
   "execution_count": 40,
   "metadata": {
    "collapsed": false
   },
   "outputs": [
    {
     "name": "stdout",
     "output_type": "stream",
     "text": [
      "(2097878, 14)\n",
      "(2097878, 14)\n"
     ]
    }
   ],
   "source": [
    "print(clean_data.shape)\n",
    "print(noisy_data.shape)"
   ]
  },
  {
   "cell_type": "code",
   "execution_count": 88,
   "metadata": {
    "collapsed": false
   },
   "outputs": [
    {
     "data": {
      "text/plain": [
       "((1888064, 14), (209728, 14), numpy.ndarray, 1888064, 209728)"
      ]
     },
     "execution_count": 88,
     "metadata": {},
     "output_type": "execute_result"
    }
   ],
   "source": [
    "n_train = int(clean_data.shape[0]*0.9) \n",
    "n_test = clean_data.shape[0] - n_train\n",
    "\n",
    "x_train = set_creator(TIMESTAMPS, clean_data[:n_train,:])\n",
    "x_test = set_creator(TIMESTAMPS, clean_data[n_train:,:])\n",
    "\n",
    "x_train_noisy = set_creator(TIMESTAMPS, noisy_data[:n_train,:])\n",
    "x_test_noisy = set_creator(TIMESTAMPS, noisy_data[n_train:,:])\n",
    "\n",
    "n_train = x_train.shape[0]\n",
    "n_test = x_test.shape[0]\n",
    "\n",
    "x_train.shape, x_test.shape, type(x_train), n_train, n_test"
   ]
  },
  {
   "cell_type": "code",
   "execution_count": 89,
   "metadata": {
    "collapsed": true
   },
   "outputs": [],
   "source": [
    "input_dim = CHANNELS * TIMESTAMPS # 64 timepoints of 14 channels (about 0.23 seconds of data)\n",
    "datapoint_dim = [1, TIMESTAMPS, CHANNELS, 1]  # dimensionality of one datapoint\n",
    "\n",
    "# Convolutional autoencoder\n",
    "input_img = Input(shape=(TIMESTAMPS, CHANNELS, 1))  # The data will now be treated as an image \n",
    "\n",
    "x = Conv2D(32, (3, 3), activation='relu', padding='same')(input_img)\n",
    "x = MaxPooling2D((2, 2), padding='same')(x)\n",
    "x = Conv2D(16, (3, 3), activation='relu', padding='same')(x)\n",
    "encoded = MaxPooling2D((2, 1), padding='same')(x)\n",
    "\n",
    "\n",
    "# at this point the representation is (16, 7, 16) i.e. lot-dimensional\n",
    "\n",
    "\n",
    "x = Conv2D(16, (3, 3), activation='relu', padding=\"same\")(encoded)\n",
    "x = UpSampling2D((2, 2))(x)\n",
    "x = Conv2D(32, (3, 3), activation='relu', padding=\"same\")(x)\n",
    "x = UpSampling2D((2, 1))(x)\n",
    "decoded = Conv2D(1, (3, 3), activation='sigmoid', padding='same')(x)\n",
    "\n",
    "# The autoencoder\n",
    "autoencoder = Model(input_img, decoded)\n",
    "autoencoder.compile(optimizer='adam', loss='mean_squared_error')"
   ]
  },
  {
   "cell_type": "code",
   "execution_count": 90,
   "metadata": {
    "collapsed": true
   },
   "outputs": [],
   "source": [
    "# this model maps an input to its encoded representation\n",
    "encoder = Model(input_img, encoded)"
   ]
  },
  {
   "cell_type": "code",
   "execution_count": 92,
   "metadata": {
    "collapsed": false
   },
   "outputs": [],
   "source": [
    "# create a placeholder for an encoded input\n",
    "encoded_input = Input(shape=(16,7,16))\n",
    "\n",
    "# retrieve the decoder layers of the autoencoder model\n",
    "decoder_layer = autoencoder.layers[-5](encoded_input)\n",
    "decoder_layer = autoencoder.layers[-4](decoder_layer)\n",
    "decoder_layer = autoencoder.layers[-3](decoder_layer)\n",
    "decoder_layer = autoencoder.layers[-2](decoder_layer)\n",
    "decoder_layer = autoencoder.layers[-1](decoder_layer)\n",
    "\n",
    "# create the decoder model\n",
    "decoder = Model(encoded_input, decoder_layer)"
   ]
  },
  {
   "cell_type": "code",
   "execution_count": 93,
   "metadata": {
    "collapsed": true
   },
   "outputs": [],
   "source": [
    "model_final_json = autoencoder.to_json()\n",
    "\n",
    "with open(\"denoising_autoencoder_unsupervised.json\", \"w\") as json_file:\n",
    "    json_file.write(model_final_json)"
   ]
  },
  {
   "cell_type": "code",
   "execution_count": 94,
   "metadata": {
    "collapsed": false
   },
   "outputs": [
    {
     "data": {
      "text/plain": [
       "((29501, 64, 14, 1), (3277, 64, 14, 1), (29501, 64, 14, 1), (3277, 64, 14, 1))"
      ]
     },
     "execution_count": 94,
     "metadata": {},
     "output_type": "execute_result"
    }
   ],
   "source": [
    "# We will normalize all values between 0 and 1 and we will reshape to (None, 14, 14, 1), 14 timepoints with 14 signals\n",
    "shift = min(np.amin(x_train), np.amin(x_test))\n",
    "normalize = max(np.amax(x_train), np.amax(x_test)) - shift\n",
    "\n",
    "x_train = (x_train.astype('float32') - shift) / normalize\n",
    "x_test = (x_test.astype('float32') - shift) / normalize\n",
    "\n",
    "x_train = x_train.reshape(int(n_train/TIMESTAMPS), TIMESTAMPS, CHANNELS, 1)\n",
    "x_test = x_test.reshape(int(n_test/TIMESTAMPS), TIMESTAMPS, CHANNELS, 1)\n",
    "x_train.shape, x_test.shape\n",
    "\n",
    "shift = min(np.amin(x_train_noisy), np.amin(x_test_noisy))\n",
    "normalize = max(np.amax(x_train_noisy), np.amax(x_test_noisy)) - shift\n",
    "\n",
    "x_train_noisy = (x_train_noisy.astype('float32') - shift) / normalize\n",
    "x_test_noisy = (x_test_noisy.astype('float32') - shift) / normalize\n",
    "\n",
    "x_train_noisy = x_train_noisy.reshape(int(n_train/TIMESTAMPS), TIMESTAMPS, CHANNELS, 1)\n",
    "x_test_noisy = x_test_noisy.reshape(int(n_test/TIMESTAMPS), TIMESTAMPS, CHANNELS, 1)\n",
    "x_train.shape, x_test.shape, x_train_noisy.shape, x_test_noisy.shape"
   ]
  },
  {
   "cell_type": "code",
   "execution_count": 98,
   "metadata": {
    "collapsed": false
   },
   "outputs": [
    {
     "data": {
      "text/plain": [
       "((29501, 64, 14, 1), (3277, 64, 14, 1), (29501, 64, 14, 1), (3277, 64, 14, 1))"
      ]
     },
     "execution_count": 98,
     "metadata": {},
     "output_type": "execute_result"
    }
   ],
   "source": [
    "x_train, x_train_noisy = normalize_signals(x_train, x_train_noisy)\n",
    "x_test, x_test_noisy = normalize_signals(x_test, x_test_noisy)\n",
    "\n",
    "x_train = x_train.reshape(int(n_train/TIMESTAMPS), TIMESTAMPS, CHANNELS, 1)\n",
    "x_test = x_test.reshape(int(n_test/TIMESTAMPS), TIMESTAMPS, CHANNELS, 1)\n",
    "x_train.shape, x_test.shape\n",
    "\n",
    "x_train_noisy = x_train_noisy.reshape(int(n_train/TIMESTAMPS), TIMESTAMPS, CHANNELS, 1)\n",
    "x_test_noisy = x_test_noisy.reshape(int(n_test/TIMESTAMPS), TIMESTAMPS, CHANNELS, 1)\n",
    "x_train.shape, x_test.shape, x_train_noisy.shape, x_test_noisy.shape"
   ]
  },
  {
   "cell_type": "code",
   "execution_count": 99,
   "metadata": {
    "collapsed": false
   },
   "outputs": [
    {
     "name": "stdout",
     "output_type": "stream",
     "text": [
      "Train on 26550 samples, validate on 2951 samples\n",
      "Epoch 1/50\n",
      "26550/26550 [==============================] - 12s - loss: 2.0915e-04 - val_loss: 2.4455e-04\n",
      "Epoch 2/50\n",
      "26550/26550 [==============================] - 11s - loss: 2.0880e-04 - val_loss: 2.4396e-04\n",
      "Epoch 3/50\n",
      "26550/26550 [==============================] - 11s - loss: 2.0441e-04 - val_loss: 2.3860e-04\n",
      "Epoch 4/50\n",
      "26550/26550 [==============================] - 11s - loss: 2.0050e-04 - val_loss: 2.3655e-04\n",
      "Epoch 5/50\n",
      "26550/26550 [==============================] - 11s - loss: 1.9867e-04 - val_loss: 2.3562e-04\n",
      "Epoch 6/50\n",
      "26550/26550 [==============================] - 11s - loss: 1.9634e-04 - val_loss: 2.2846e-04\n",
      "Epoch 7/50\n",
      "26550/26550 [==============================] - 11s - loss: 1.9359e-04 - val_loss: 2.1967e-04\n",
      "Epoch 8/50\n",
      "26550/26550 [==============================] - 11s - loss: 1.8986e-04 - val_loss: 2.2251e-04\n",
      "Epoch 9/50\n",
      "26550/26550 [==============================] - 11s - loss: 1.8542e-04 - val_loss: 2.0227e-04\n",
      "Epoch 10/50\n",
      "26550/26550 [==============================] - 11s - loss: 1.8099e-04 - val_loss: 1.9771e-04\n",
      "Epoch 11/50\n",
      "26550/26550 [==============================] - 11s - loss: 1.7864e-04 - val_loss: 2.0212e-04\n",
      "Epoch 12/50\n",
      "26550/26550 [==============================] - 11s - loss: 1.7619e-04 - val_loss: 1.9474e-04\n",
      "Epoch 13/50\n",
      "26550/26550 [==============================] - 11s - loss: 1.7537e-04 - val_loss: 1.9553e-04\n",
      "Epoch 14/50\n",
      "26550/26550 [==============================] - 11s - loss: 1.7407e-04 - val_loss: 1.8870e-04\n",
      "Epoch 15/50\n",
      "26550/26550 [==============================] - 11s - loss: 1.7258e-04 - val_loss: 1.8430e-04\n",
      "Epoch 16/50\n",
      "26550/26550 [==============================] - 11s - loss: 1.7150e-04 - val_loss: 1.8116e-04\n",
      "Epoch 17/50\n",
      "26550/26550 [==============================] - 11s - loss: 1.7035e-04 - val_loss: 1.7659e-04\n",
      "Epoch 18/50\n",
      "26550/26550 [==============================] - 11s - loss: 1.7044e-04 - val_loss: 1.8456e-04\n",
      "Epoch 19/50\n",
      "26550/26550 [==============================] - 11s - loss: 1.6990e-04 - val_loss: 1.7892e-04\n",
      "Epoch 20/50\n",
      "26550/26550 [==============================] - 11s - loss: 1.6820e-04 - val_loss: 1.7983e-04\n",
      "Epoch 21/50\n",
      "26550/26550 [==============================] - 11s - loss: 1.6789e-04 - val_loss: 1.7545e-04\n",
      "Epoch 22/50\n",
      "26550/26550 [==============================] - 11s - loss: 1.6743e-04 - val_loss: 1.7568e-04\n",
      "Epoch 23/50\n",
      "26550/26550 [==============================] - 11s - loss: 1.6769e-04 - val_loss: 1.7398e-04\n",
      "Epoch 24/50\n",
      "26550/26550 [==============================] - 11s - loss: 1.6535e-04 - val_loss: 1.7661e-04\n",
      "Epoch 25/50\n",
      "26550/26550 [==============================] - 11s - loss: 1.6437e-04 - val_loss: 1.6729e-04\n",
      "Epoch 26/50\n",
      "26550/26550 [==============================] - 11s - loss: 1.6482e-04 - val_loss: 1.7094e-04\n",
      "Epoch 27/50\n",
      "26550/26550 [==============================] - 11s - loss: 1.6473e-04 - val_loss: 1.7114e-04\n",
      "Epoch 28/50\n",
      "26550/26550 [==============================] - 11s - loss: 1.6410e-04 - val_loss: 1.7193e-04\n",
      "Epoch 29/50\n",
      "26550/26550 [==============================] - 11s - loss: 1.6373e-04 - val_loss: 1.6098e-04\n",
      "Epoch 30/50\n",
      "26550/26550 [==============================] - 11s - loss: 1.6313e-04 - val_loss: 1.6953e-04\n",
      "Epoch 31/50\n",
      "26550/26550 [==============================] - 11s - loss: 1.6449e-04 - val_loss: 1.7495e-04\n",
      "Epoch 32/50\n",
      "26550/26550 [==============================] - 11s - loss: 1.6264e-04 - val_loss: 1.7165e-04\n",
      "Epoch 33/50\n",
      "26550/26550 [==============================] - 11s - loss: 1.6301e-04 - val_loss: 1.7126e-04\n",
      "Epoch 34/50\n",
      "26550/26550 [==============================] - 11s - loss: 1.6224e-04 - val_loss: 1.6538e-04\n",
      "Epoch 35/50\n",
      "26550/26550 [==============================] - 11s - loss: 1.6190e-04 - val_loss: 1.6706e-04\n",
      "Epoch 00034: early stopping\n"
     ]
    },
    {
     "data": {
      "text/plain": [
       "<keras.callbacks.History at 0x221a36f89e8>"
      ]
     },
     "execution_count": 99,
     "metadata": {},
     "output_type": "execute_result"
    }
   ],
   "source": [
    "filepath=\"denoising_autoencoder_unsupervised_data.hdf5\"\n",
    "checkpoint = ModelCheckpoint(filepath, monitor='val_loss', verbose=0, save_best_only=True, mode='min')\n",
    "early_stopping = EarlyStopping(monitor='val_loss', min_delta=pow(10, -8), patience=5, verbose=1, mode='auto')\n",
    "callbacks = [early_stopping, checkpoint]\n",
    "###############################################################################\n",
    "\n",
    "# train convolutional autoencoder\n",
    "autoencoder.fit(x_train_noisy, x_train,\n",
    "                epochs=50,\n",
    "                batch_size=64,\n",
    "                shuffle=True,\n",
    "                callbacks=callbacks,\n",
    "                validation_split=0.1)"
   ]
  },
  {
   "cell_type": "markdown",
   "metadata": {},
   "source": [
    "## Denoising MLP"
   ]
  },
  {
   "cell_type": "code",
   "execution_count": 111,
   "metadata": {
    "collapsed": false
   },
   "outputs": [
    {
     "name": "stdout",
     "output_type": "stream",
     "text": [
      "(11520000,)\n",
      "0\n",
      "Size of Data in memory is approximately: 1406.25 MB.\n"
     ]
    }
   ],
   "source": [
    "with open(path + \"pure_signal_extraction_data_indices.mem\", \"rb\") as input_file:\n",
    "    indices = pickle.load(input_file)\n",
    "\n",
    "# we will get a sinusoid estimation of an eeg signal and a noisy variant to train the autoencoder on\n",
    "shuffled_indices = []\n",
    "pure_data = []\n",
    "noisy_data = []\n",
    "\n",
    "\n",
    "for j in range(50):\n",
    "    # load twelve hours of data\n",
    "    dat, shuffled_indices = random_signal_loader(indices, shuffled_indices, path + \"pure_signal_extraction_data.mem\")\n",
    "    pure_data.extend(dat[1])\n",
    "    noisy_data.extend(dat[0])\n",
    "        \n",
    "# reshape into correctly size numpy arrays\n",
    "pure_data = np.array(pure_data).T\n",
    "noisy_data = np.array(noisy_data).T\n",
    "        \n",
    "# some stats\n",
    "print(pure_data.shape)\n",
    "print(len(shuffled_indices))\n",
    "print(\"Size of Data in memory is approximately: \" +\n",
    "          str(NUMBER_OF_TRAINING_INSTANCES*2*sys.getsizeof(pure_data[0])*pure_data.shape[0]/1048576) + \" MB.\")\n",
    "\n",
    "init_val = 2500"
   ]
  },
  {
   "cell_type": "code",
   "execution_count": 90,
   "metadata": {
    "collapsed": false
   },
   "outputs": [
    {
     "data": {
      "text/plain": [
       "((7603200,),\n",
       " (3916800,),\n",
       " (7603200,),\n",
       " (3916800,),\n",
       " numpy.ndarray,\n",
       " 7603200,\n",
       " 3916800,\n",
       " 0)"
      ]
     },
     "execution_count": 90,
     "metadata": {},
     "output_type": "execute_result"
    }
   ],
   "source": [
    "# data dimensions\n",
    "input_dim = CHANNELS * TIMESTAMPS  # 14 timepoints of 14 channels (about 0.12 seconds of data)\n",
    "datapoint_dim = [1, CHANNELS * TIMESTAMPS]  # dimensionality of one datapoint, 128\n",
    "\n",
    "# stats\n",
    "n_train = int(pure_data.shape[0]*0.66) \n",
    "n_test = pure_data.shape[0] - n_train \n",
    "\n",
    "\n",
    "# non noisy\n",
    "x_train = set_creator(TIMESTAMPS, pure_data[:n_train])\n",
    "x_test = set_creator(TIMESTAMPS, pure_data[n_train:])\n",
    "\n",
    "# noisy\n",
    "x_train_noisy = set_creator(TIMESTAMPS, noisy_data[:n_train])\n",
    "x_test_noisy = set_creator(TIMESTAMPS, noisy_data[n_train:])\n",
    "\n",
    "# reworked stats\n",
    "n_train = x_train.shape[0]\n",
    "n_test = x_test.shape[0]\n",
    "\n",
    "x_train.shape, x_test.shape, x_train_noisy.shape, x_test_noisy.shape, type(x_train), n_train, n_test, n_train % TIMESTAMPS"
   ]
  },
  {
   "cell_type": "code",
   "execution_count": 91,
   "metadata": {
    "collapsed": true
   },
   "outputs": [],
   "source": [
    "# Deep autoencoder\n",
    "hidden_dim = 64  # For 280-dimensional input data (20*14) these layer sizes seem to suffice. Play with this if you change the input.\n",
    "encoding_dim = 32\n",
    "\n",
    "# this is our input placeholder\n",
    "input_eeg = Input(shape=(input_dim,))\n",
    "\n",
    "# \"encoded\" is the encoded representation of the input\n",
    "encoded = Dense(hidden_dim, activation=\"relu\")(input_eeg)\n",
    "encoded = Dense(hidden_dim, activation='relu')(encoded)\n",
    "encoded = Dense(encoding_dim, activation='relu')(encoded)\n",
    "\n",
    "# \"decoded\" is the lossy reconstruction of the input\n",
    "decoded = Dense(hidden_dim, activation='relu')(encoded)\n",
    "decoded = Dense(hidden_dim, activation='relu')(decoded)\n",
    "decoded = Dense(input_dim, activation='sigmoid')(decoded)\n",
    "\n",
    "# this model maps an input to its reconstruction\n",
    "autoencoder = Model(input_eeg, decoded)\n",
    "autoencoder.compile(optimizer='adam', loss='mean_squared_error')"
   ]
  },
  {
   "cell_type": "code",
   "execution_count": 92,
   "metadata": {
    "collapsed": false
   },
   "outputs": [],
   "source": [
    "# this model maps an input to its encoded representation\n",
    "encoder = Model(input_eeg, encoded)"
   ]
  },
  {
   "cell_type": "code",
   "execution_count": 93,
   "metadata": {
    "collapsed": false
   },
   "outputs": [],
   "source": [
    "# create a placeholder for an encoded input\n",
    "encoded_input = Input(shape=(encoding_dim,))\n",
    "\n",
    "# retrieve the decoder layers of the autoencoder model\n",
    "decoder_layer = autoencoder.layers[-3](encoded_input)\n",
    "decoder_layer = autoencoder.layers[-2](decoder_layer)\n",
    "decoder_layer = autoencoder.layers[-1](decoder_layer)\n",
    "\n",
    "# create the decoder model\n",
    "decoder = Model(encoded_input, decoder_layer)"
   ]
  },
  {
   "cell_type": "code",
   "execution_count": 64,
   "metadata": {
    "collapsed": false
   },
   "outputs": [
    {
     "ename": "ValueError",
     "evalue": "total size of new array must be unchanged",
     "output_type": "error",
     "traceback": [
      "\u001b[1;31m\u001b[0m",
      "\u001b[1;31mValueError\u001b[0mTraceback (most recent call last)",
      "\u001b[1;32m<ipython-input-64-efe6076bfc05>\u001b[0m in \u001b[0;36m<module>\u001b[1;34m()\u001b[0m\n\u001b[0;32m      8\u001b[0m \u001b[0mx_test_noisy\u001b[0m \u001b[1;33m=\u001b[0m \u001b[1;33m(\u001b[0m\u001b[0mx_test_noisy\u001b[0m\u001b[1;33m.\u001b[0m\u001b[0mastype\u001b[0m\u001b[1;33m(\u001b[0m\u001b[1;34m'float32'\u001b[0m\u001b[1;33m)\u001b[0m \u001b[1;33m-\u001b[0m \u001b[0mshift\u001b[0m\u001b[1;33m)\u001b[0m \u001b[1;33m/\u001b[0m \u001b[0mnormalize\u001b[0m\u001b[1;33m\u001b[0m\u001b[0m\n\u001b[0;32m      9\u001b[0m \u001b[1;33m\u001b[0m\u001b[0m\n\u001b[1;32m---> 10\u001b[1;33m \u001b[0mx_train\u001b[0m \u001b[1;33m=\u001b[0m \u001b[0mx_train\u001b[0m\u001b[1;33m.\u001b[0m\u001b[0mreshape\u001b[0m\u001b[1;33m(\u001b[0m\u001b[0mint\u001b[0m\u001b[1;33m(\u001b[0m\u001b[0mn_train\u001b[0m\u001b[1;33m/\u001b[0m\u001b[0minput_dim\u001b[0m\u001b[1;33m)\u001b[0m\u001b[1;33m,\u001b[0m \u001b[0minput_dim\u001b[0m\u001b[1;33m)\u001b[0m\u001b[1;33m\u001b[0m\u001b[0m\n\u001b[0m\u001b[0;32m     11\u001b[0m \u001b[0mx_test\u001b[0m \u001b[1;33m=\u001b[0m \u001b[0mx_test\u001b[0m\u001b[1;33m.\u001b[0m\u001b[0mreshape\u001b[0m\u001b[1;33m(\u001b[0m\u001b[0mint\u001b[0m\u001b[1;33m(\u001b[0m\u001b[0mn_test\u001b[0m\u001b[1;33m/\u001b[0m\u001b[0minput_dim\u001b[0m\u001b[1;33m)\u001b[0m\u001b[1;33m,\u001b[0m \u001b[0minput_dim\u001b[0m\u001b[1;33m)\u001b[0m\u001b[1;33m\u001b[0m\u001b[0m\n\u001b[0;32m     12\u001b[0m \u001b[0mx_train_noisy\u001b[0m \u001b[1;33m=\u001b[0m \u001b[0mx_train_noisy\u001b[0m\u001b[1;33m.\u001b[0m\u001b[0mreshape\u001b[0m\u001b[1;33m(\u001b[0m\u001b[0mint\u001b[0m\u001b[1;33m(\u001b[0m\u001b[0mn_train\u001b[0m\u001b[1;33m/\u001b[0m\u001b[0minput_dim\u001b[0m\u001b[1;33m)\u001b[0m\u001b[1;33m,\u001b[0m \u001b[0minput_dim\u001b[0m\u001b[1;33m)\u001b[0m\u001b[1;33m\u001b[0m\u001b[0m\n",
      "\u001b[1;31mValueError\u001b[0m: total size of new array must be unchanged"
     ]
    }
   ],
   "source": [
    "# We will normalize all values between 0 and 1 and we will reshape to (None, input_dim)\n",
    "shift = min(np.amin(x_train_noisy), np.amin(x_test_noisy), np.amin(x_train), np.amin(x_test))\n",
    "normalize = max(np.amax(x_train_noisy), np.amax(x_test_noisy), np.amax(x_train), np.amax(x_test)) - shift\n",
    "\n",
    "x_train = (x_train.astype('float32') - shift) / normalize\n",
    "x_train_noisy = (x_train_noisy.astype('float32') - shift) / normalize\n",
    "x_test = (x_test.astype('float32') - shift) / normalize\n",
    "x_test_noisy = (x_test_noisy.astype('float32') - shift) / normalize\n",
    "\n",
    "x_train = x_train.reshape(int(n_train/input_dim), input_dim)\n",
    "x_test = x_test.reshape(int(n_test/input_dim), input_dim)\n",
    "x_train_noisy = x_train_noisy.reshape(int(n_train/input_dim), input_dim)\n",
    "x_test_noisy = x_test_noisy.reshape(int(n_test/input_dim), input_dim)\n",
    "x_train.shape, x_test.shape, x_train_noisy.shape, x_test_noisy.shape"
   ]
  },
  {
   "cell_type": "code",
   "execution_count": 95,
   "metadata": {
    "collapsed": false
   },
   "outputs": [
    {
     "name": "stdout",
     "output_type": "stream",
     "text": [
      "Epoch 1/100\n",
      "118800/118800 [==============================] - 2s - loss: 0.0026     \n",
      "Epoch 2/100\n",
      "118800/118800 [==============================] - 2s - loss: 7.0875e-05     \n",
      "Epoch 3/100\n",
      "118800/118800 [==============================] - 2s - loss: 5.1110e-05     \n",
      "Epoch 4/100\n",
      "118800/118800 [==============================] - 2s - loss: 3.8329e-05     \n",
      "Epoch 5/100\n",
      "118800/118800 [==============================] - 2s - loss: 3.3839e-05     \n",
      "Epoch 6/100\n",
      "118800/118800 [==============================] - 2s - loss: 3.0374e-05     \n",
      "Epoch 7/100\n",
      "118800/118800 [==============================] - 2s - loss: 2.6475e-05     \n",
      "Epoch 8/100\n",
      "118800/118800 [==============================] - 2s - loss: 3.6652e-05     \n",
      "Epoch 9/100\n",
      "118800/118800 [==============================] - 2s - loss: 2.3476e-05     \n",
      "Epoch 10/100\n",
      "118800/118800 [==============================] - 2s - loss: 2.5177e-05     \n",
      "Epoch 11/100\n",
      "118800/118800 [==============================] - 2s - loss: 2.4231e-05     \n",
      "Epoch 12/100\n",
      "118800/118800 [==============================] - 2s - loss: 2.3245e-05     \n",
      "Epoch 13/100\n",
      "118800/118800 [==============================] - 2s - loss: 2.1421e-05     \n",
      "Epoch 14/100\n",
      "118800/118800 [==============================] - 2s - loss: 2.3123e-05     \n",
      "Epoch 15/100\n",
      "118800/118800 [==============================] - 2s - loss: 2.2461e-05     \n",
      "Epoch 16/100\n",
      "118800/118800 [==============================] - 2s - loss: 2.1392e-05     \n",
      "Epoch 17/100\n",
      "118800/118800 [==============================] - 2s - loss: 2.2000e-05     \n",
      "Epoch 18/100\n",
      "118800/118800 [==============================] - 2s - loss: 2.1291e-05     \n",
      "Epoch 19/100\n",
      "118800/118800 [==============================] - 2s - loss: 2.0946e-05     \n",
      "Epoch 20/100\n",
      "118800/118800 [==============================] - 2s - loss: 2.1083e-05     \n",
      "Epoch 21/100\n",
      "118800/118800 [==============================] - 2s - loss: 2.0480e-05     \n",
      "Epoch 22/100\n",
      "118800/118800 [==============================] - 2s - loss: 2.0558e-05     \n",
      "Epoch 23/100\n",
      "118800/118800 [==============================] - 2s - loss: 2.0118e-05     \n",
      "Epoch 24/100\n",
      "118800/118800 [==============================] - 2s - loss: 2.0801e-05     \n",
      "Epoch 25/100\n",
      "118800/118800 [==============================] - 2s - loss: 1.9895e-05     \n",
      "Epoch 26/100\n",
      "118800/118800 [==============================] - 2s - loss: 1.9843e-05     \n",
      "Epoch 27/100\n",
      "118800/118800 [==============================] - 2s - loss: 1.9815e-05     \n",
      "Epoch 28/100\n",
      "118800/118800 [==============================] - 2s - loss: 1.9544e-05     \n",
      "Epoch 29/100\n",
      "118800/118800 [==============================] - 2s - loss: 2.0047e-05     \n",
      "Epoch 30/100\n",
      "118800/118800 [==============================] - 2s - loss: 1.9669e-05     \n",
      "Epoch 31/100\n",
      "118800/118800 [==============================] - 2s - loss: 1.9535e-05     \n",
      "Epoch 32/100\n",
      "118800/118800 [==============================] - 2s - loss: 1.9822e-05     \n",
      "Epoch 33/100\n",
      "118800/118800 [==============================] - 2s - loss: 1.8939e-05     \n",
      "Epoch 34/100\n",
      "118800/118800 [==============================] - 2s - loss: 1.9335e-05     \n",
      "Epoch 35/100\n",
      "118800/118800 [==============================] - 2s - loss: 1.8668e-05     \n",
      "Epoch 36/100\n",
      "118800/118800 [==============================] - 2s - loss: 1.9381e-05     \n",
      "Epoch 37/100\n",
      "118800/118800 [==============================] - 2s - loss: 1.8387e-05     \n",
      "Epoch 38/100\n",
      "118800/118800 [==============================] - 2s - loss: 1.8832e-05     \n",
      "Epoch 39/100\n",
      "118800/118800 [==============================] - 2s - loss: 1.9519e-05     \n",
      "Epoch 40/100\n",
      "118800/118800 [==============================] - 2s - loss: 1.8802e-05     \n",
      "Epoch 41/100\n",
      "118800/118800 [==============================] - 2s - loss: 1.9391e-05     \n",
      "Epoch 42/100\n",
      "118800/118800 [==============================] - 2s - loss: 1.8894e-05     \n",
      "Epoch 43/100\n",
      "118800/118800 [==============================] - 2s - loss: 1.8259e-05     \n",
      "Epoch 44/100\n",
      "118800/118800 [==============================] - 2s - loss: 1.8561e-05     \n",
      "Epoch 45/100\n",
      "118800/118800 [==============================] - 2s - loss: 1.9306e-05     \n",
      "Epoch 46/100\n",
      "118800/118800 [==============================] - 2s - loss: 1.8482e-05     \n",
      "Epoch 47/100\n",
      "118800/118800 [==============================] - 2s - loss: 1.8614e-05     \n",
      "Epoch 48/100\n",
      "118800/118800 [==============================] - 2s - loss: 1.8710e-05     \n",
      "Epoch 49/100\n",
      "118800/118800 [==============================] - 2s - loss: 1.8286e-05     \n",
      "Epoch 50/100\n",
      "118800/118800 [==============================] - 2s - loss: 1.8540e-05     \n",
      "Epoch 51/100\n",
      "118800/118800 [==============================] - 2s - loss: 1.8778e-05     \n",
      "Epoch 52/100\n",
      "118800/118800 [==============================] - 2s - loss: 1.8796e-05     \n",
      "Epoch 53/100\n",
      "118800/118800 [==============================] - 2s - loss: 1.7993e-05     \n",
      "Epoch 54/100\n",
      "118800/118800 [==============================] - 2s - loss: 1.8247e-05     \n",
      "Epoch 55/100\n",
      "118800/118800 [==============================] - 2s - loss: 1.8360e-05     \n",
      "Epoch 56/100\n",
      "118800/118800 [==============================] - 2s - loss: 1.8415e-05     \n",
      "Epoch 57/100\n",
      "118800/118800 [==============================] - 2s - loss: 1.8148e-05     \n",
      "Epoch 58/100\n",
      "118800/118800 [==============================] - 2s - loss: 1.8644e-05     \n",
      "Epoch 59/100\n",
      "118800/118800 [==============================] - 2s - loss: 1.8002e-05     \n",
      "Epoch 60/100\n",
      "118800/118800 [==============================] - 2s - loss: 1.8114e-05     \n",
      "Epoch 61/100\n",
      "118800/118800 [==============================] - 2s - loss: 1.8185e-05     \n",
      "Epoch 62/100\n",
      "118800/118800 [==============================] - 2s - loss: 1.8353e-05     \n",
      "Epoch 63/100\n",
      "118800/118800 [==============================] - 2s - loss: 1.9225e-05     \n",
      "Epoch 64/100\n",
      "118800/118800 [==============================] - 2s - loss: 1.7437e-05     \n",
      "Epoch 65/100\n",
      "118800/118800 [==============================] - 2s - loss: 1.7959e-05     \n",
      "Epoch 66/100\n",
      "118800/118800 [==============================] - 2s - loss: 1.8625e-05     \n",
      "Epoch 67/100\n",
      "118800/118800 [==============================] - 2s - loss: 1.7935e-05     \n",
      "Epoch 68/100\n",
      "118800/118800 [==============================] - 2s - loss: 1.8602e-05     \n",
      "Epoch 69/100\n",
      "118800/118800 [==============================] - 2s - loss: 1.7614e-05     \n",
      "Epoch 70/100\n",
      "118800/118800 [==============================] - 2s - loss: 1.7400e-05     \n",
      "Epoch 71/100\n",
      "118800/118800 [==============================] - 2s - loss: 1.8249e-05     \n",
      "Epoch 72/100\n",
      "118800/118800 [==============================] - 2s - loss: 1.8121e-05     \n",
      "Epoch 73/100\n",
      "118800/118800 [==============================] - 2s - loss: 1.7866e-05     \n",
      "Epoch 74/100\n",
      "118800/118800 [==============================] - 2s - loss: 1.7762e-05     \n",
      "Epoch 75/100\n",
      "118800/118800 [==============================] - 2s - loss: 1.7691e-05     \n",
      "Epoch 76/100\n",
      "118800/118800 [==============================] - 2s - loss: 1.8524e-05     \n",
      "Epoch 77/100\n",
      "118800/118800 [==============================] - 2s - loss: 1.7231e-05     \n",
      "Epoch 78/100\n",
      "118800/118800 [==============================] - 2s - loss: 1.8885e-05     \n",
      "Epoch 79/100\n",
      "118800/118800 [==============================] - 2s - loss: 1.7202e-05     \n",
      "Epoch 80/100\n",
      "118800/118800 [==============================] - 2s - loss: 1.8022e-05     \n",
      "Epoch 81/100\n",
      "118800/118800 [==============================] - 2s - loss: 1.8464e-05     \n",
      "Epoch 82/100\n",
      "118800/118800 [==============================] - 2s - loss: 1.7161e-05     \n",
      "Epoch 83/100\n",
      "118800/118800 [==============================] - 2s - loss: 1.7519e-05     \n",
      "Epoch 84/100\n",
      "118800/118800 [==============================] - 2s - loss: 1.7743e-05     \n",
      "Epoch 85/100\n",
      "118800/118800 [==============================] - 2s - loss: 1.7876e-05     \n",
      "Epoch 86/100\n",
      "118800/118800 [==============================] - 2s - loss: 1.8182e-05     \n",
      "Epoch 87/100\n",
      "118800/118800 [==============================] - 2s - loss: 1.7795e-05     \n",
      "Epoch 88/100\n",
      "118800/118800 [==============================] - 2s - loss: 1.7932e-05     \n",
      "Epoch 89/100\n",
      "118800/118800 [==============================] - 2s - loss: 1.7582e-05     \n",
      "Epoch 90/100\n",
      "118800/118800 [==============================] - 2s - loss: 1.7501e-05     \n",
      "Epoch 91/100\n",
      "118800/118800 [==============================] - 2s - loss: 1.7365e-05     \n",
      "Epoch 92/100\n",
      "118800/118800 [==============================] - 2s - loss: 1.7982e-05     \n",
      "Epoch 93/100\n",
      "118800/118800 [==============================] - 2s - loss: 1.7604e-05     \n",
      "Epoch 94/100\n",
      "118800/118800 [==============================] - 2s - loss: 1.7976e-05     \n",
      "Epoch 95/100\n",
      "118800/118800 [==============================] - 2s - loss: 1.7202e-05     \n",
      "Epoch 96/100\n",
      "118800/118800 [==============================] - 2s - loss: 1.7625e-05     \n",
      "Epoch 97/100\n",
      "118800/118800 [==============================] - 2s - loss: 1.7676e-05     \n",
      "Epoch 98/100\n",
      "118800/118800 [==============================] - 2s - loss: 1.7936e-05     \n",
      "Epoch 99/100\n",
      "118800/118800 [==============================] - 2s - loss: 1.7147e-05     \n",
      "Epoch 100/100\n",
      "118800/118800 [==============================] - 2s - loss: 1.7815e-05     \n"
     ]
    },
    {
     "data": {
      "text/plain": [
       "<keras.callbacks.History at 0x1dd71b27ac8>"
      ]
     },
     "execution_count": 95,
     "metadata": {},
     "output_type": "execute_result"
    }
   ],
   "source": [
    "# train convolutional autoencoder\n",
    "autoencoder.fit(x_train_noisy, x_train,\n",
    "                epochs=100,\n",
    "                batch_size=256,\n",
    "                shuffle=True)"
   ]
  },
  {
   "cell_type": "markdown",
   "metadata": {},
   "source": [
    "## Denoising autoencoder"
   ]
  },
  {
   "cell_type": "code",
   "execution_count": 78,
   "metadata": {
    "collapsed": false
   },
   "outputs": [
    {
     "name": "stdout",
     "output_type": "stream",
     "text": [
      "(1843200, 14)\n",
      "451\n",
      "Size of Data in memory is approximately: 225.0 MB.\n"
     ]
    }
   ],
   "source": [
    "with open(path + \"pure_signal_extraction_data_indices.mem\", \"rb\") as input_file:\n",
    "    indices = pickle.load(input_file)\n",
    "\n",
    "# we will get a sinusoid estimation of an eeg signal and a noisy variant to train the autoencoder on\n",
    "shuffled_indices = []\n",
    "pure_data = []\n",
    "noisy_data = []\n",
    "\n",
    "for i in range(14):\n",
    "    pure_data.append([])\n",
    "    noisy_data.append([])\n",
    "    for j in range(8):\n",
    "        # load four hours of data\n",
    "        dat, shuffled_indices = random_signal_loader(indices, shuffled_indices, path + \"pure_signal_extraction_data.mem\")\n",
    "        pure_data[i].extend(dat[1])\n",
    "        noisy_data[i].extend(dat[0])\n",
    "        \n",
    "# reshape into correctly size numpy arrays\n",
    "pure_data = np.array(pure_data).T\n",
    "noisy_data = np.array(noisy_data).T\n",
    "        \n",
    "# some stats\n",
    "print(pure_data.shape)\n",
    "print(len(shuffled_indices))\n",
    "print(\"Size of Data in memory is approximately: \" +\n",
    "          str(NUMBER_OF_TRAINING_INSTANCES*2*sys.getsizeof(pure_data[0][0])*pure_data.shape[0]/1048576) + \" MB.\")\n",
    "\n",
    "init_val = 2500"
   ]
  },
  {
   "cell_type": "code",
   "execution_count": 126,
   "metadata": {
    "collapsed": false
   },
   "outputs": [
    {
     "data": {
      "text/plain": [
       "((1216512, 14),\n",
       " (626688, 14),\n",
       " (1216512, 14),\n",
       " (626688, 14),\n",
       " numpy.ndarray,\n",
       " 1216512,\n",
       " 626688,\n",
       " 0)"
      ]
     },
     "execution_count": 126,
     "metadata": {},
     "output_type": "execute_result"
    }
   ],
   "source": [
    "# data dimensions\n",
    "input_dim = CHANNELS * TIMESTAMPS  # 14 timepoints of 14 channels (about 0.12 seconds of data)\n",
    "datapoint_dim = [1,TIMESTAMPS, CHANNELS,1]  # dimensionality of one datapoint\n",
    "\n",
    "# stats\n",
    "n_train = int(pure_data.shape[0]*0.66) \n",
    "n_test = pure_data.shape[0] - n_train \n",
    "\n",
    "\n",
    "# non noisy\n",
    "x_train = set_creator(TIMESTAMPS, pure_data[:n_train, :])\n",
    "x_test = set_creator(TIMESTAMPS, pure_data[n_train:, :])\n",
    "\n",
    "# noisy\n",
    "x_train_noisy = set_creator(TIMESTAMPS, noisy_data[:n_train, :])\n",
    "x_test_noisy = set_creator(TIMESTAMPS, noisy_data[n_train:, :])\n",
    "\n",
    "# reworked stats\n",
    "n_train = x_train.shape[0]\n",
    "n_test = x_test.shape[0]\n",
    "\n",
    "x_train.shape, x_test.shape, x_train_noisy.shape, x_test_noisy.shape, type(x_train), n_train, n_test, n_train % TIMESTAMPS"
   ]
  },
  {
   "cell_type": "code",
   "execution_count": 116,
   "metadata": {
    "collapsed": false
   },
   "outputs": [],
   "source": [
    "# Convolutional autoencoder\n",
    "input_img = Input(shape=(TIMESTAMPS, CHANNELS, 1))  # The data will now be treated as a 14 by 14 image \n",
    "\n",
    "x = Conv2D(32, (3, 3), activation='relu', padding='same')(input_img)\n",
    "x = MaxPooling2D((2, 2), padding='same')(x)\n",
    "x = Conv2D(32, (3, 3), activation='relu', padding='same')(x)\n",
    "x = MaxPooling2D((2, 2), padding='same')(x)\n",
    "x = Conv2D(32, (3, 3), activation='relu', padding='same')(x)\n",
    "x = MaxPooling2D((2, 1), padding='same')(x)\n",
    "x = Conv2D(32, (3, 3), activation='relu', padding='same')(x)\n",
    "encoded = MaxPooling2D((2, 1), padding='same')(x)\n",
    "\n",
    "# at this point the representation is (16, 4, 32) i.e. lot-dimensional\n",
    "\n",
    "x = Conv2D(32, (3, 3), activation='relu', padding=\"same\")(encoded)\n",
    "x = UpSampling2D((2, 1))(x)\n",
    "x = Conv2D(32, (3, 3), activation='relu', padding=\"same\")(x)\n",
    "x = UpSampling2D((2, 1))(x)\n",
    "x = Conv2D(32, (3, 3), activation='relu', padding=\"same\")(x)\n",
    "x = UpSampling2D((2, 2))(x)\n",
    "x = Conv2D(32, (1, 2), activation='relu')(x)\n",
    "x = UpSampling2D((2, 2))(x)\n",
    "decoded = Conv2D(1, (3, 3), activation='sigmoid', padding='same')(x)\n",
    "\n",
    "\n",
    "# The autoencoder\n",
    "autoencoder = Model(input_img, decoded)\n",
    "autoencoder.compile(optimizer='adam', loss='mean_squared_error')"
   ]
  },
  {
   "cell_type": "code",
   "execution_count": 118,
   "metadata": {
    "collapsed": true
   },
   "outputs": [],
   "source": [
    "# this model maps an input to its encoded representation\n",
    "encoder = Model(input_img, encoded)"
   ]
  },
  {
   "cell_type": "code",
   "execution_count": 117,
   "metadata": {
    "collapsed": true
   },
   "outputs": [],
   "source": [
    "# create a placeholder for an encoded input\n",
    "encoded_input = Input(shape=(16,4,32))\n",
    "\n",
    "# retrieve the decoder layers of the autoencoder model\n",
    "decoder_layer = autoencoder.layers[-9](encoded_input)\n",
    "decoder_layer = autoencoder.layers[-8](decoder_layer)\n",
    "decoder_layer = autoencoder.layers[-7](decoder_layer)\n",
    "decoder_layer = autoencoder.layers[-6](decoder_layer)\n",
    "decoder_layer = autoencoder.layers[-5](decoder_layer)\n",
    "decoder_layer = autoencoder.layers[-4](decoder_layer)\n",
    "decoder_layer = autoencoder.layers[-3](decoder_layer)\n",
    "decoder_layer = autoencoder.layers[-2](decoder_layer)\n",
    "decoder_layer = autoencoder.layers[-1](decoder_layer)\n",
    "\n",
    "# create the decoder model\n",
    "decoder = Model(encoded_input, decoder_layer)"
   ]
  },
  {
   "cell_type": "code",
   "execution_count": 85,
   "metadata": {
    "collapsed": false
   },
   "outputs": [
    {
     "data": {
      "text/plain": [
       "((118800, 64, 1, 1), (61200, 64, 1, 1), (118800, 64, 1, 1), (61200, 64, 1, 1))"
      ]
     },
     "execution_count": 85,
     "metadata": {},
     "output_type": "execute_result"
    }
   ],
   "source": [
    "# We will normalize all values between 0 and 1 and we will reshape to (None, 14, 14, 1), 14 timepoints with 14 signals\n",
    "shift = min(np.amin(x_train_noisy), np.amin(x_test_noisy), np.amin(x_train), np.amin(x_test))\n",
    "normalize = max(np.amax(x_train_noisy), np.amax(x_test_noisy), np.amax(x_train), np.amax(x_test)) - shift\n",
    "\n",
    "x_train = (x_train.astype('float32') - shift) / normalize\n",
    "x_train_noisy = (x_train_noisy.astype('float32') - shift) / normalize\n",
    "x_test = (x_test.astype('float32') - shift) / normalize\n",
    "x_test_noisy = (x_test_noisy.astype('float32') - shift) / normalize\n",
    "\n",
    "x_train = x_train.reshape(int(n_train/TIMESTAMPS), TIMESTAMPS, CHANNELS, 1)\n",
    "x_test = x_test.reshape(int(n_test/TIMESTAMPS), TIMESTAMPS, CHANNELS, 1)\n",
    "x_train_noisy = x_train_noisy.reshape(int(n_train/TIMESTAMPS), TIMESTAMPS, CHANNELS, 1)\n",
    "x_test_noisy = x_test_noisy.reshape(int(n_test/TIMESTAMPS), TIMESTAMPS, CHANNELS, 1)\n",
    "x_train.shape, x_test.shape, x_train_noisy.shape, x_test_noisy.shape"
   ]
  },
  {
   "cell_type": "code",
   "execution_count": 125,
   "metadata": {
    "collapsed": false
   },
   "outputs": [
    {
     "name": "stdout",
     "output_type": "stream",
     "text": [
      "Epoch 1/50\n",
      "4752/4752 [==============================] - 6s - loss: 0.0015     \n",
      "Epoch 2/50\n",
      "4752/4752 [==============================] - 6s - loss: 0.0015     \n",
      "Epoch 3/50\n",
      "4752/4752 [==============================] - 6s - loss: 0.0015     \n",
      "Epoch 4/50\n",
      "4752/4752 [==============================] - 6s - loss: 0.0015     \n",
      "Epoch 5/50\n",
      "4752/4752 [==============================] - 6s - loss: 0.0015     \n",
      "Epoch 6/50\n",
      "4752/4752 [==============================] - 6s - loss: 0.0015     \n",
      "Epoch 7/50\n",
      "4752/4752 [==============================] - 6s - loss: 0.0015     \n",
      "Epoch 8/50\n",
      "4752/4752 [==============================] - 6s - loss: 0.0015     \n",
      "Epoch 9/50\n",
      "4752/4752 [==============================] - 6s - loss: 0.0015     \n",
      "Epoch 10/50\n",
      "4752/4752 [==============================] - 6s - loss: 0.0015     \n",
      "Epoch 11/50\n",
      "4752/4752 [==============================] - 6s - loss: 0.0015     \n",
      "Epoch 12/50\n",
      "4752/4752 [==============================] - 6s - loss: 0.0014     \n",
      "Epoch 13/50\n",
      "4752/4752 [==============================] - 6s - loss: 0.0014     \n",
      "Epoch 14/50\n",
      "4752/4752 [==============================] - 6s - loss: 0.0014     \n",
      "Epoch 15/50\n",
      "4752/4752 [==============================] - 6s - loss: 0.0014     \n",
      "Epoch 16/50\n",
      "4752/4752 [==============================] - 6s - loss: 0.0014     \n",
      "Epoch 17/50\n",
      "4752/4752 [==============================] - 6s - loss: 0.0014     \n",
      "Epoch 18/50\n",
      "4752/4752 [==============================] - 6s - loss: 0.0014     \n",
      "Epoch 19/50\n",
      "4752/4752 [==============================] - 6s - loss: 0.0014     \n",
      "Epoch 20/50\n",
      "4752/4752 [==============================] - 6s - loss: 0.0014     \n",
      "Epoch 21/50\n",
      "4752/4752 [==============================] - 6s - loss: 0.0014     \n",
      "Epoch 22/50\n",
      "4752/4752 [==============================] - 6s - loss: 0.0014     \n",
      "Epoch 23/50\n",
      "4752/4752 [==============================] - 6s - loss: 0.0014     \n",
      "Epoch 24/50\n",
      "4752/4752 [==============================] - 6s - loss: 0.0014     \n",
      "Epoch 25/50\n",
      "4752/4752 [==============================] - 6s - loss: 0.0014     \n",
      "Epoch 26/50\n",
      "4752/4752 [==============================] - 6s - loss: 0.0014     \n",
      "Epoch 27/50\n",
      "4752/4752 [==============================] - 6s - loss: 0.0014     \n",
      "Epoch 28/50\n",
      "4752/4752 [==============================] - 6s - loss: 0.0014     \n",
      "Epoch 29/50\n",
      "4752/4752 [==============================] - 6s - loss: 0.0014     \n",
      "Epoch 30/50\n",
      " 256/4752 [>.............................] - ETA: 6s - loss: 0.0014"
     ]
    },
    {
     "ename": "KeyboardInterrupt",
     "evalue": "",
     "output_type": "error",
     "traceback": [
      "\u001b[1;31m---------------------------------------------------------------------------\u001b[0m",
      "\u001b[1;31mKeyboardInterrupt\u001b[0m                         Traceback (most recent call last)",
      "\u001b[1;32m<ipython-input-125-0c442f355f9f>\u001b[0m in \u001b[0;36m<module>\u001b[1;34m()\u001b[0m\n\u001b[0;32m      3\u001b[0m                 \u001b[0mepochs\u001b[0m\u001b[1;33m=\u001b[0m\u001b[1;36m50\u001b[0m\u001b[1;33m,\u001b[0m\u001b[1;33m\u001b[0m\u001b[0m\n\u001b[0;32m      4\u001b[0m                 \u001b[0mbatch_size\u001b[0m\u001b[1;33m=\u001b[0m\u001b[1;36m64\u001b[0m\u001b[1;33m,\u001b[0m\u001b[1;33m\u001b[0m\u001b[0m\n\u001b[1;32m----> 5\u001b[1;33m                 shuffle=True)\n\u001b[0m",
      "\u001b[1;32mD:\\Anaconda\\lib\\site-packages\\keras\\engine\\training.py\u001b[0m in \u001b[0;36mfit\u001b[1;34m(self, x, y, batch_size, epochs, verbose, callbacks, validation_split, validation_data, shuffle, class_weight, sample_weight, initial_epoch, **kwargs)\u001b[0m\n\u001b[0;32m   1505\u001b[0m                               \u001b[0mval_f\u001b[0m\u001b[1;33m=\u001b[0m\u001b[0mval_f\u001b[0m\u001b[1;33m,\u001b[0m \u001b[0mval_ins\u001b[0m\u001b[1;33m=\u001b[0m\u001b[0mval_ins\u001b[0m\u001b[1;33m,\u001b[0m \u001b[0mshuffle\u001b[0m\u001b[1;33m=\u001b[0m\u001b[0mshuffle\u001b[0m\u001b[1;33m,\u001b[0m\u001b[1;33m\u001b[0m\u001b[0m\n\u001b[0;32m   1506\u001b[0m                               \u001b[0mcallback_metrics\u001b[0m\u001b[1;33m=\u001b[0m\u001b[0mcallback_metrics\u001b[0m\u001b[1;33m,\u001b[0m\u001b[1;33m\u001b[0m\u001b[0m\n\u001b[1;32m-> 1507\u001b[1;33m                               initial_epoch=initial_epoch)\n\u001b[0m\u001b[0;32m   1508\u001b[0m \u001b[1;33m\u001b[0m\u001b[0m\n\u001b[0;32m   1509\u001b[0m     \u001b[1;32mdef\u001b[0m \u001b[0mevaluate\u001b[0m\u001b[1;33m(\u001b[0m\u001b[0mself\u001b[0m\u001b[1;33m,\u001b[0m \u001b[0mx\u001b[0m\u001b[1;33m,\u001b[0m \u001b[0my\u001b[0m\u001b[1;33m,\u001b[0m \u001b[0mbatch_size\u001b[0m\u001b[1;33m=\u001b[0m\u001b[1;36m32\u001b[0m\u001b[1;33m,\u001b[0m \u001b[0mverbose\u001b[0m\u001b[1;33m=\u001b[0m\u001b[1;36m1\u001b[0m\u001b[1;33m,\u001b[0m \u001b[0msample_weight\u001b[0m\u001b[1;33m=\u001b[0m\u001b[1;32mNone\u001b[0m\u001b[1;33m)\u001b[0m\u001b[1;33m:\u001b[0m\u001b[1;33m\u001b[0m\u001b[0m\n",
      "\u001b[1;32mD:\\Anaconda\\lib\\site-packages\\keras\\engine\\training.py\u001b[0m in \u001b[0;36m_fit_loop\u001b[1;34m(self, f, ins, out_labels, batch_size, epochs, verbose, callbacks, val_f, val_ins, shuffle, callback_metrics, initial_epoch)\u001b[0m\n\u001b[0;32m   1154\u001b[0m                 \u001b[0mbatch_logs\u001b[0m\u001b[1;33m[\u001b[0m\u001b[1;34m'size'\u001b[0m\u001b[1;33m]\u001b[0m \u001b[1;33m=\u001b[0m \u001b[0mlen\u001b[0m\u001b[1;33m(\u001b[0m\u001b[0mbatch_ids\u001b[0m\u001b[1;33m)\u001b[0m\u001b[1;33m\u001b[0m\u001b[0m\n\u001b[0;32m   1155\u001b[0m                 \u001b[0mcallbacks\u001b[0m\u001b[1;33m.\u001b[0m\u001b[0mon_batch_begin\u001b[0m\u001b[1;33m(\u001b[0m\u001b[0mbatch_index\u001b[0m\u001b[1;33m,\u001b[0m \u001b[0mbatch_logs\u001b[0m\u001b[1;33m)\u001b[0m\u001b[1;33m\u001b[0m\u001b[0m\n\u001b[1;32m-> 1156\u001b[1;33m                 \u001b[0mouts\u001b[0m \u001b[1;33m=\u001b[0m \u001b[0mf\u001b[0m\u001b[1;33m(\u001b[0m\u001b[0mins_batch\u001b[0m\u001b[1;33m)\u001b[0m\u001b[1;33m\u001b[0m\u001b[0m\n\u001b[0m\u001b[0;32m   1157\u001b[0m                 \u001b[1;32mif\u001b[0m \u001b[1;32mnot\u001b[0m \u001b[0misinstance\u001b[0m\u001b[1;33m(\u001b[0m\u001b[0mouts\u001b[0m\u001b[1;33m,\u001b[0m \u001b[0mlist\u001b[0m\u001b[1;33m)\u001b[0m\u001b[1;33m:\u001b[0m\u001b[1;33m\u001b[0m\u001b[0m\n\u001b[0;32m   1158\u001b[0m                     \u001b[0mouts\u001b[0m \u001b[1;33m=\u001b[0m \u001b[1;33m[\u001b[0m\u001b[0mouts\u001b[0m\u001b[1;33m]\u001b[0m\u001b[1;33m\u001b[0m\u001b[0m\n",
      "\u001b[1;32mD:\\Anaconda\\lib\\site-packages\\keras\\backend\\tensorflow_backend.py\u001b[0m in \u001b[0;36m__call__\u001b[1;34m(self, inputs)\u001b[0m\n\u001b[0;32m   2267\u001b[0m         updated = session.run(self.outputs + [self.updates_op],\n\u001b[0;32m   2268\u001b[0m                               \u001b[0mfeed_dict\u001b[0m\u001b[1;33m=\u001b[0m\u001b[0mfeed_dict\u001b[0m\u001b[1;33m,\u001b[0m\u001b[1;33m\u001b[0m\u001b[0m\n\u001b[1;32m-> 2269\u001b[1;33m                               **self.session_kwargs)\n\u001b[0m\u001b[0;32m   2270\u001b[0m         \u001b[1;32mreturn\u001b[0m \u001b[0mupdated\u001b[0m\u001b[1;33m[\u001b[0m\u001b[1;33m:\u001b[0m\u001b[0mlen\u001b[0m\u001b[1;33m(\u001b[0m\u001b[0mself\u001b[0m\u001b[1;33m.\u001b[0m\u001b[0moutputs\u001b[0m\u001b[1;33m)\u001b[0m\u001b[1;33m]\u001b[0m\u001b[1;33m\u001b[0m\u001b[0m\n\u001b[0;32m   2271\u001b[0m \u001b[1;33m\u001b[0m\u001b[0m\n",
      "\u001b[1;32mD:\\Anaconda\\lib\\site-packages\\tensorflow\\python\\client\\session.py\u001b[0m in \u001b[0;36mrun\u001b[1;34m(self, fetches, feed_dict, options, run_metadata)\u001b[0m\n\u001b[0;32m    776\u001b[0m     \u001b[1;32mtry\u001b[0m\u001b[1;33m:\u001b[0m\u001b[1;33m\u001b[0m\u001b[0m\n\u001b[0;32m    777\u001b[0m       result = self._run(None, fetches, feed_dict, options_ptr,\n\u001b[1;32m--> 778\u001b[1;33m                          run_metadata_ptr)\n\u001b[0m\u001b[0;32m    779\u001b[0m       \u001b[1;32mif\u001b[0m \u001b[0mrun_metadata\u001b[0m\u001b[1;33m:\u001b[0m\u001b[1;33m\u001b[0m\u001b[0m\n\u001b[0;32m    780\u001b[0m         \u001b[0mproto_data\u001b[0m \u001b[1;33m=\u001b[0m \u001b[0mtf_session\u001b[0m\u001b[1;33m.\u001b[0m\u001b[0mTF_GetBuffer\u001b[0m\u001b[1;33m(\u001b[0m\u001b[0mrun_metadata_ptr\u001b[0m\u001b[1;33m)\u001b[0m\u001b[1;33m\u001b[0m\u001b[0m\n",
      "\u001b[1;32mD:\\Anaconda\\lib\\site-packages\\tensorflow\\python\\client\\session.py\u001b[0m in \u001b[0;36m_run\u001b[1;34m(self, handle, fetches, feed_dict, options, run_metadata)\u001b[0m\n\u001b[0;32m    980\u001b[0m     \u001b[1;32mif\u001b[0m \u001b[0mfinal_fetches\u001b[0m \u001b[1;32mor\u001b[0m \u001b[0mfinal_targets\u001b[0m\u001b[1;33m:\u001b[0m\u001b[1;33m\u001b[0m\u001b[0m\n\u001b[0;32m    981\u001b[0m       results = self._do_run(handle, final_targets, final_fetches,\n\u001b[1;32m--> 982\u001b[1;33m                              feed_dict_string, options, run_metadata)\n\u001b[0m\u001b[0;32m    983\u001b[0m     \u001b[1;32melse\u001b[0m\u001b[1;33m:\u001b[0m\u001b[1;33m\u001b[0m\u001b[0m\n\u001b[0;32m    984\u001b[0m       \u001b[0mresults\u001b[0m \u001b[1;33m=\u001b[0m \u001b[1;33m[\u001b[0m\u001b[1;33m]\u001b[0m\u001b[1;33m\u001b[0m\u001b[0m\n",
      "\u001b[1;32mD:\\Anaconda\\lib\\site-packages\\tensorflow\\python\\client\\session.py\u001b[0m in \u001b[0;36m_do_run\u001b[1;34m(self, handle, target_list, fetch_list, feed_dict, options, run_metadata)\u001b[0m\n\u001b[0;32m   1030\u001b[0m     \u001b[1;32mif\u001b[0m \u001b[0mhandle\u001b[0m \u001b[1;32mis\u001b[0m \u001b[1;32mNone\u001b[0m\u001b[1;33m:\u001b[0m\u001b[1;33m\u001b[0m\u001b[0m\n\u001b[0;32m   1031\u001b[0m       return self._do_call(_run_fn, self._session, feed_dict, fetch_list,\n\u001b[1;32m-> 1032\u001b[1;33m                            target_list, options, run_metadata)\n\u001b[0m\u001b[0;32m   1033\u001b[0m     \u001b[1;32melse\u001b[0m\u001b[1;33m:\u001b[0m\u001b[1;33m\u001b[0m\u001b[0m\n\u001b[0;32m   1034\u001b[0m       return self._do_call(_prun_fn, self._session, handle, feed_dict,\n",
      "\u001b[1;32mD:\\Anaconda\\lib\\site-packages\\tensorflow\\python\\client\\session.py\u001b[0m in \u001b[0;36m_do_call\u001b[1;34m(self, fn, *args)\u001b[0m\n\u001b[0;32m   1037\u001b[0m   \u001b[1;32mdef\u001b[0m \u001b[0m_do_call\u001b[0m\u001b[1;33m(\u001b[0m\u001b[0mself\u001b[0m\u001b[1;33m,\u001b[0m \u001b[0mfn\u001b[0m\u001b[1;33m,\u001b[0m \u001b[1;33m*\u001b[0m\u001b[0margs\u001b[0m\u001b[1;33m)\u001b[0m\u001b[1;33m:\u001b[0m\u001b[1;33m\u001b[0m\u001b[0m\n\u001b[0;32m   1038\u001b[0m     \u001b[1;32mtry\u001b[0m\u001b[1;33m:\u001b[0m\u001b[1;33m\u001b[0m\u001b[0m\n\u001b[1;32m-> 1039\u001b[1;33m       \u001b[1;32mreturn\u001b[0m \u001b[0mfn\u001b[0m\u001b[1;33m(\u001b[0m\u001b[1;33m*\u001b[0m\u001b[0margs\u001b[0m\u001b[1;33m)\u001b[0m\u001b[1;33m\u001b[0m\u001b[0m\n\u001b[0m\u001b[0;32m   1040\u001b[0m     \u001b[1;32mexcept\u001b[0m \u001b[0merrors\u001b[0m\u001b[1;33m.\u001b[0m\u001b[0mOpError\u001b[0m \u001b[1;32mas\u001b[0m \u001b[0me\u001b[0m\u001b[1;33m:\u001b[0m\u001b[1;33m\u001b[0m\u001b[0m\n\u001b[0;32m   1041\u001b[0m       \u001b[0mmessage\u001b[0m \u001b[1;33m=\u001b[0m \u001b[0mcompat\u001b[0m\u001b[1;33m.\u001b[0m\u001b[0mas_text\u001b[0m\u001b[1;33m(\u001b[0m\u001b[0me\u001b[0m\u001b[1;33m.\u001b[0m\u001b[0mmessage\u001b[0m\u001b[1;33m)\u001b[0m\u001b[1;33m\u001b[0m\u001b[0m\n",
      "\u001b[1;32mD:\\Anaconda\\lib\\site-packages\\tensorflow\\python\\client\\session.py\u001b[0m in \u001b[0;36m_run_fn\u001b[1;34m(session, feed_dict, fetch_list, target_list, options, run_metadata)\u001b[0m\n\u001b[0;32m   1019\u001b[0m         return tf_session.TF_Run(session, options,\n\u001b[0;32m   1020\u001b[0m                                  \u001b[0mfeed_dict\u001b[0m\u001b[1;33m,\u001b[0m \u001b[0mfetch_list\u001b[0m\u001b[1;33m,\u001b[0m \u001b[0mtarget_list\u001b[0m\u001b[1;33m,\u001b[0m\u001b[1;33m\u001b[0m\u001b[0m\n\u001b[1;32m-> 1021\u001b[1;33m                                  status, run_metadata)\n\u001b[0m\u001b[0;32m   1022\u001b[0m \u001b[1;33m\u001b[0m\u001b[0m\n\u001b[0;32m   1023\u001b[0m     \u001b[1;32mdef\u001b[0m \u001b[0m_prun_fn\u001b[0m\u001b[1;33m(\u001b[0m\u001b[0msession\u001b[0m\u001b[1;33m,\u001b[0m \u001b[0mhandle\u001b[0m\u001b[1;33m,\u001b[0m \u001b[0mfeed_dict\u001b[0m\u001b[1;33m,\u001b[0m \u001b[0mfetch_list\u001b[0m\u001b[1;33m)\u001b[0m\u001b[1;33m:\u001b[0m\u001b[1;33m\u001b[0m\u001b[0m\n",
      "\u001b[1;31mKeyboardInterrupt\u001b[0m: "
     ]
    }
   ],
   "source": [
    "# train convolutional autoencoder\n",
    "autoencoder.fit(x_train_noisy, x_train,\n",
    "                epochs=50,\n",
    "                batch_size=64,\n",
    "                shuffle=True)"
   ]
  },
  {
   "cell_type": "markdown",
   "metadata": {},
   "source": [
    "## Evaluation"
   ]
  },
  {
   "cell_type": "code",
   "execution_count": 100,
   "metadata": {
    "collapsed": false
   },
   "outputs": [
    {
     "name": "stdout",
     "output_type": "stream",
     "text": [
      "(3277, 64, 14, 1)\n",
      "(3277, 64, 14, 1)\n",
      "(3277, 16, 7, 16)\n"
     ]
    }
   ],
   "source": [
    "# encode and decode \n",
    "encoded_eegs = encoder.predict(x_test_noisy)\n",
    "decoded_eegs = decoder.predict(encoded_eegs)\n",
    "\n",
    "# these should have the same shape\n",
    "print(x_test_noisy.shape)\n",
    "print(decoded_eegs.shape)\n",
    "\n",
    "# this should have the correct encoded dimensions\n",
    "print(encoded_eegs.shape)"
   ]
  },
  {
   "cell_type": "code",
   "execution_count": 101,
   "metadata": {
    "collapsed": false
   },
   "outputs": [],
   "source": [
    "from scipy.spatial.distance import correlation, euclidean, mahalanobis, minkowski,cosine"
   ]
  },
  {
   "cell_type": "code",
   "execution_count": 102,
   "metadata": {
    "collapsed": false
   },
   "outputs": [
    {
     "name": "stdout",
     "output_type": "stream",
     "text": [
      "corr: 0.703949048631\n",
      "euc: 1.1683573722839355\n",
      "cos: 0.000456028240879\n",
      "cheb: 0.0991001\n"
     ]
    }
   ],
   "source": [
    "# Get a sample from the test set\n",
    "sample = x_test_noisy[10].reshape(datapoint_dim)\n",
    "encoded_x = encoder.predict(sample)\n",
    "decoded_x = decoder.predict(encoded_x)\n",
    "\n",
    "# Apply different distance measures in order to evaluate the decoding (extend this for grid search) ()\n",
    "test_x = sample.reshape(input_dim)\n",
    "test_y = decoded_x.reshape(input_dim)\n",
    "print(\"corr: \" + str(correlation(test_x,test_y)))\n",
    "print(\"euc: \" + str(euclidean(test_x,test_y)))\n",
    "print(\"cos: \" + str(cosine(test_x,test_y))) # probably the best measure due to the high dimensionality of the data\n",
    "print(\"cheb: \" + str(minkowski(test_x,test_y,np.inf))) # chebyshev distance"
   ]
  },
  {
   "cell_type": "code",
   "execution_count": 109,
   "metadata": {
    "collapsed": false
   },
   "outputs": [
    {
     "data": {
      "image/png": "[encoded data removed]",
      "text/plain": [
       "<matplotlib.figure.Figure at 0x22140026080>"
      ]
     },
     "metadata": {},
     "output_type": "display_data"
    }
   ],
   "source": [
    "# Draw a plot to compare a slice of the test signal and its decoded reconstruction\n",
    "\n",
    "import matplotlib.pyplot as plt\n",
    "%matplotlib inline\n",
    "\n",
    "x_test_noisy = x_test_noisy.reshape(n_test, CHANNELS)\n",
    "x_test = x_test.reshape(n_test, CHANNELS)\n",
    "decoded_eegs = decoded_eegs.reshape((n_test, CHANNELS))\n",
    "# plt.plot(noisy_data[999990:1000200], label=\"noisy\")\n",
    "plt.plot(x_test[:100000,2], label=\"pure\")\n",
    "plt.plot(decoded_eegs[:100000,3], label = \"reconstructed\")\n",
    "plt.legend()\n",
    "plt.show()"
   ]
  },
  {
   "cell_type": "code",
   "execution_count": null,
   "metadata": {
    "collapsed": true
   },
   "outputs": [],
   "source": []
  },
  {
   "cell_type": "code",
   "execution_count": null,
   "metadata": {
    "collapsed": true
   },
   "outputs": [],
   "source": []
  }
 ],
 "metadata": {
  "anaconda-cloud": {},
  "kernelspec": {
   "display_name": "Python [Root]",
   "language": "python",
   "name": "Python [Root]"
  },
  "language_info": {
   "codemirror_mode": {
    "name": "ipython",
    "version": 3
   },
   "file_extension": ".py",
   "mimetype": "text/x-python",
   "name": "python",
   "nbconvert_exporter": "python",
   "pygments_lexer": "ipython3",
   "version": "3.5.2"
  }
 },
 "nbformat": 4,
 "nbformat_minor": 0
}
